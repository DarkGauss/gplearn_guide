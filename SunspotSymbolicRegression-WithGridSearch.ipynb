{
 "cells": [
  {
   "cell_type": "code",
   "execution_count": 1,
   "metadata": {},
   "outputs": [],
   "source": [
    "# Imports for gplearn and pydotplus in order to see graph view"
   ]
  },
  {
   "cell_type": "code",
   "execution_count": 2,
   "metadata": {},
   "outputs": [],
   "source": [
    "\n",
    "from IPython.display import Image\n",
    "import pydotplus\n",
    "\n",
    "from gplearn.genetic import SymbolicRegressor\n",
    "from gplearn.fitness import make_fitness"
   ]
  },
  {
   "cell_type": "code",
   "execution_count": 3,
   "metadata": {},
   "outputs": [],
   "source": [
    "#--Import the required libraries--\n",
    "import math\n",
    "import random\n",
    "import matplotlib.pyplot as plt\n",
    "import numpy as np\n",
    "\n",
    "#--debug mode to report on evaluation of tree--\n",
    "debug_eval = False\n",
    "\n"
   ]
  },
  {
   "cell_type": "markdown",
   "metadata": {},
   "source": [
    "# Import Scipy generic dataset \n",
    "* Number of Instances:506\n",
    "* Number of Attributes:13\n",
    "* Attribute Information (in order):"
   ]
  },
  {
   "cell_type": "markdown",
   "metadata": {},
   "source": [
    "\n",
    "<li>CRIM     per capita crime rate by town</li>\n",
    "<li>ZN       proportion of residential land zoned for lots over 25,000 sq.ft.</li>\n",
    "<li>INDUS    proportion of non-retail business acres per town</li>\n",
    "<li>CHAS     Charles River dummy variable (= 1 if tract bounds river; 0 otherwise)</li>\n",
    "<li>NOX      nitric oxides concentration (parts per 10 million)</li>\n",
    "<li>RM       average number of rooms per dwelling</li>\n",
    "<li>AGE      proportion of owner-occupied units built prior to 1940</li>\n",
    "<li>DIS      weighted distances to five Boston employment centres</li>\n",
    "<li>RAD      index of accessibility to radial highways</li>\n",
    "<li>TAX      full-value property-tax rate per \\\\$10,000</li>\n",
    "<li>PTRATIO  pupil-teacher ratio by town</li>\n",
    "<li>B        1000(Bk - 0.63)^2 where Bk is the proportion of blacks by town</li>\n",
    "<li>LSTAT    \\\\% lower status of the population</li>\n",
    "<li>MEDV     Median value of owner-occupied homes in $1000’s</li>"
   ]
  },
  {
   "cell_type": "code",
   "execution_count": 4,
   "metadata": {},
   "outputs": [
    {
     "name": "stdout",
     "output_type": "stream",
     "text": [
      "Shapes:\n",
      " data_x:(506, 13)\n",
      " data_y:(506,)\n",
      " train_x:(404, 13)\n",
      " test_x:(102, 13)\n",
      " train_y:(404,)\n",
      " test_y:(102,)\n"
     ]
    }
   ],
   "source": [
    "from sklearn.model_selection import train_test_split\n",
    "from sklearn.datasets import load_boston\n",
    "\n",
    "#load the data from the default data set, and split it into a tuple\n",
    "data = load_boston(return_X_y = True)\n",
    "\n",
    "#what percent of our data do we want to use to validate\n",
    "split_percent = 0.2\n",
    "train_x, test_x, train_y, test_y = train_test_split(*data, test_size = split_percent, random_state = 0)\n",
    "\n",
    "#print out the shapes for clarity\n",
    "print(\"Shapes:\\n data_x:{}\\n data_y:{}\\n train_x:{}\\n test_x:{}\\n train_y:{}\\n test_y:{}\"\n",
    "      .format(data[0].shape,data[1].shape,train_x.shape,test_x.shape,train_y.shape,test_y.shape))"
   ]
  },
  {
   "cell_type": "markdown",
   "metadata": {},
   "source": [
    "# Symbolic regression with grid search\n"
   ]
  },
  {
   "cell_type": "code",
   "execution_count": null,
   "metadata": {},
   "outputs": [],
   "source": [
    "from sklearn.model_selection import GridSearchCV\n",
    "est_gp = SymbolicRegressor()\n"
   ]
  },
  {
   "cell_type": "code",
   "execution_count": null,
   "metadata": {},
   "outputs": [],
   "source": [
    "parameters = {'function_set': [('add', 'sub', 'mul', 'div'), ('add', 'sub', 'mul', 'div',\n",
    "                'sqrt', 'log', 'abs', 'neg', 'inv','max', 'min')],\n",
    "             'init_depth': [(2, 6),(3,7)],\n",
    "             'max_samples': [1.0,0.9],\n",
    "             'p_crossover': [0.9,0.8],\n",
    "             'p_hoist_mutation': [0.01,0.05],\n",
    "             'p_point_mutation': [0.01,0.02],\n",
    "             'random_state': [0],\n",
    "             'tournament_size': [20,10,30],\n",
    "             'verbose': [1],\n",
    "             'warm_start': [False]}"
   ]
  },
  {
   "cell_type": "code",
   "execution_count": null,
   "metadata": {},
   "outputs": [
    {
     "name": "stdout",
     "output_type": "stream",
     "text": [
      "Fitting 5 folds for each of 192 candidates, totalling 960 fits\n"
     ]
    },
    {
     "name": "stderr",
     "output_type": "stream",
     "text": [
      "[Parallel(n_jobs=-1)]: Using backend LokyBackend with 36 concurrent workers.\n",
      "[Parallel(n_jobs=-1)]: Done 128 tasks      | elapsed:  1.0min\n",
      "[Parallel(n_jobs=-1)]: Done 378 tasks      | elapsed:  2.7min\n"
     ]
    }
   ],
   "source": [
    "#This part sets up the symbolic regressor\n",
    "clf = GridSearchCV(est_gp, parameters, cv=5,n_jobs = -1, verbose = 1)\n",
    "#This part runs it on our data\n",
    "clf.fit(train_x, train_y)"
   ]
  },
  {
   "cell_type": "code",
   "execution_count": null,
   "metadata": {},
   "outputs": [],
   "source": [
    "clf.best_params_"
   ]
  },
  {
   "cell_type": "markdown",
   "metadata": {},
   "source": [
    "# Scoring\n"
   ]
  },
  {
   "cell_type": "code",
   "execution_count": null,
   "metadata": {},
   "outputs": [],
   "source": [
    " print(clf.best_estimator_._program)\n",
    "clf.best_estimator_.score(test_x,test_y)"
   ]
  },
  {
   "cell_type": "code",
   "execution_count": null,
   "metadata": {},
   "outputs": [],
   "source": [
    "graph = pydotplus.graphviz.graph_from_dot_data(clf.best_estimator_._program.export_graphviz())\n",
    "Image(graph.create_png())"
   ]
  },
  {
   "cell_type": "code",
   "execution_count": null,
   "metadata": {},
   "outputs": [],
   "source": []
  }
 ],
 "metadata": {
  "kernelspec": {
   "display_name": "Python 3",
   "language": "python",
   "name": "python3"
  },
  "language_info": {
   "codemirror_mode": {
    "name": "ipython",
    "version": 3
   },
   "file_extension": ".py",
   "mimetype": "text/x-python",
   "name": "python",
   "nbconvert_exporter": "python",
   "pygments_lexer": "ipython3",
   "version": "3.6.8"
  }
 },
 "nbformat": 4,
 "nbformat_minor": 2
}
