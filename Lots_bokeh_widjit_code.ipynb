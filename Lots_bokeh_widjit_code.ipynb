{
 "cells": [
  {
   "cell_type": "code",
   "execution_count": 1,
   "metadata": {},
   "outputs": [],
   "source": [
    "# Imports for gplearn and pydotplus in order to see graph view"
   ]
  },
  {
   "cell_type": "code",
   "execution_count": 2,
   "metadata": {},
   "outputs": [
    {
     "name": "stdout",
     "output_type": "stream",
     "text": [
      "Populating the interactive namespace from numpy and matplotlib\n"
     ]
    },
    {
     "data": {
      "text/html": [
       "\n",
       "    <div class=\"bk-root\">\n",
       "        <a href=\"https://bokeh.pydata.org\" target=\"_blank\" class=\"bk-logo bk-logo-small bk-logo-notebook\"></a>\n",
       "        <span id=\"1001\">Loading BokehJS ...</span>\n",
       "    </div>"
      ]
     },
     "metadata": {},
     "output_type": "display_data"
    },
    {
     "data": {
      "application/javascript": [
       "\n",
       "(function(root) {\n",
       "  function now() {\n",
       "    return new Date();\n",
       "  }\n",
       "\n",
       "  var force = true;\n",
       "\n",
       "  if (typeof (root._bokeh_onload_callbacks) === \"undefined\" || force === true) {\n",
       "    root._bokeh_onload_callbacks = [];\n",
       "    root._bokeh_is_loading = undefined;\n",
       "  }\n",
       "\n",
       "  var JS_MIME_TYPE = 'application/javascript';\n",
       "  var HTML_MIME_TYPE = 'text/html';\n",
       "  var EXEC_MIME_TYPE = 'application/vnd.bokehjs_exec.v0+json';\n",
       "  var CLASS_NAME = 'output_bokeh rendered_html';\n",
       "\n",
       "  /**\n",
       "   * Render data to the DOM node\n",
       "   */\n",
       "  function render(props, node) {\n",
       "    var script = document.createElement(\"script\");\n",
       "    node.appendChild(script);\n",
       "  }\n",
       "\n",
       "  /**\n",
       "   * Handle when an output is cleared or removed\n",
       "   */\n",
       "  function handleClearOutput(event, handle) {\n",
       "    var cell = handle.cell;\n",
       "\n",
       "    var id = cell.output_area._bokeh_element_id;\n",
       "    var server_id = cell.output_area._bokeh_server_id;\n",
       "    // Clean up Bokeh references\n",
       "    if (id != null && id in Bokeh.index) {\n",
       "      Bokeh.index[id].model.document.clear();\n",
       "      delete Bokeh.index[id];\n",
       "    }\n",
       "\n",
       "    if (server_id !== undefined) {\n",
       "      // Clean up Bokeh references\n",
       "      var cmd = \"from bokeh.io.state import curstate; print(curstate().uuid_to_server['\" + server_id + \"'].get_sessions()[0].document.roots[0]._id)\";\n",
       "      cell.notebook.kernel.execute(cmd, {\n",
       "        iopub: {\n",
       "          output: function(msg) {\n",
       "            var id = msg.content.text.trim();\n",
       "            if (id in Bokeh.index) {\n",
       "              Bokeh.index[id].model.document.clear();\n",
       "              delete Bokeh.index[id];\n",
       "            }\n",
       "          }\n",
       "        }\n",
       "      });\n",
       "      // Destroy server and session\n",
       "      var cmd = \"import bokeh.io.notebook as ion; ion.destroy_server('\" + server_id + \"')\";\n",
       "      cell.notebook.kernel.execute(cmd);\n",
       "    }\n",
       "  }\n",
       "\n",
       "  /**\n",
       "   * Handle when a new output is added\n",
       "   */\n",
       "  function handleAddOutput(event, handle) {\n",
       "    var output_area = handle.output_area;\n",
       "    var output = handle.output;\n",
       "\n",
       "    // limit handleAddOutput to display_data with EXEC_MIME_TYPE content only\n",
       "    if ((output.output_type != \"display_data\") || (!output.data.hasOwnProperty(EXEC_MIME_TYPE))) {\n",
       "      return\n",
       "    }\n",
       "\n",
       "    var toinsert = output_area.element.find(\".\" + CLASS_NAME.split(' ')[0]);\n",
       "\n",
       "    if (output.metadata[EXEC_MIME_TYPE][\"id\"] !== undefined) {\n",
       "      toinsert[toinsert.length - 1].firstChild.textContent = output.data[JS_MIME_TYPE];\n",
       "      // store reference to embed id on output_area\n",
       "      output_area._bokeh_element_id = output.metadata[EXEC_MIME_TYPE][\"id\"];\n",
       "    }\n",
       "    if (output.metadata[EXEC_MIME_TYPE][\"server_id\"] !== undefined) {\n",
       "      var bk_div = document.createElement(\"div\");\n",
       "      bk_div.innerHTML = output.data[HTML_MIME_TYPE];\n",
       "      var script_attrs = bk_div.children[0].attributes;\n",
       "      for (var i = 0; i < script_attrs.length; i++) {\n",
       "        toinsert[toinsert.length - 1].firstChild.setAttribute(script_attrs[i].name, script_attrs[i].value);\n",
       "      }\n",
       "      // store reference to server id on output_area\n",
       "      output_area._bokeh_server_id = output.metadata[EXEC_MIME_TYPE][\"server_id\"];\n",
       "    }\n",
       "  }\n",
       "\n",
       "  function register_renderer(events, OutputArea) {\n",
       "\n",
       "    function append_mime(data, metadata, element) {\n",
       "      // create a DOM node to render to\n",
       "      var toinsert = this.create_output_subarea(\n",
       "        metadata,\n",
       "        CLASS_NAME,\n",
       "        EXEC_MIME_TYPE\n",
       "      );\n",
       "      this.keyboard_manager.register_events(toinsert);\n",
       "      // Render to node\n",
       "      var props = {data: data, metadata: metadata[EXEC_MIME_TYPE]};\n",
       "      render(props, toinsert[toinsert.length - 1]);\n",
       "      element.append(toinsert);\n",
       "      return toinsert\n",
       "    }\n",
       "\n",
       "    /* Handle when an output is cleared or removed */\n",
       "    events.on('clear_output.CodeCell', handleClearOutput);\n",
       "    events.on('delete.Cell', handleClearOutput);\n",
       "\n",
       "    /* Handle when a new output is added */\n",
       "    events.on('output_added.OutputArea', handleAddOutput);\n",
       "\n",
       "    /**\n",
       "     * Register the mime type and append_mime function with output_area\n",
       "     */\n",
       "    OutputArea.prototype.register_mime_type(EXEC_MIME_TYPE, append_mime, {\n",
       "      /* Is output safe? */\n",
       "      safe: true,\n",
       "      /* Index of renderer in `output_area.display_order` */\n",
       "      index: 0\n",
       "    });\n",
       "  }\n",
       "\n",
       "  // register the mime type if in Jupyter Notebook environment and previously unregistered\n",
       "  if (root.Jupyter !== undefined) {\n",
       "    var events = require('base/js/events');\n",
       "    var OutputArea = require('notebook/js/outputarea').OutputArea;\n",
       "\n",
       "    if (OutputArea.prototype.mime_types().indexOf(EXEC_MIME_TYPE) == -1) {\n",
       "      register_renderer(events, OutputArea);\n",
       "    }\n",
       "  }\n",
       "\n",
       "  \n",
       "  if (typeof (root._bokeh_timeout) === \"undefined\" || force === true) {\n",
       "    root._bokeh_timeout = Date.now() + 5000;\n",
       "    root._bokeh_failed_load = false;\n",
       "  }\n",
       "\n",
       "  var NB_LOAD_WARNING = {'data': {'text/html':\n",
       "     \"<div style='background-color: #fdd'>\\n\"+\n",
       "     \"<p>\\n\"+\n",
       "     \"BokehJS does not appear to have successfully loaded. If loading BokehJS from CDN, this \\n\"+\n",
       "     \"may be due to a slow or bad network connection. Possible fixes:\\n\"+\n",
       "     \"</p>\\n\"+\n",
       "     \"<ul>\\n\"+\n",
       "     \"<li>re-rerun `output_notebook()` to attempt to load from CDN again, or</li>\\n\"+\n",
       "     \"<li>use INLINE resources instead, as so:</li>\\n\"+\n",
       "     \"</ul>\\n\"+\n",
       "     \"<code>\\n\"+\n",
       "     \"from bokeh.resources import INLINE\\n\"+\n",
       "     \"output_notebook(resources=INLINE)\\n\"+\n",
       "     \"</code>\\n\"+\n",
       "     \"</div>\"}};\n",
       "\n",
       "  function display_loaded() {\n",
       "    var el = document.getElementById(\"1001\");\n",
       "    if (el != null) {\n",
       "      el.textContent = \"BokehJS is loading...\";\n",
       "    }\n",
       "    if (root.Bokeh !== undefined) {\n",
       "      if (el != null) {\n",
       "        el.textContent = \"BokehJS \" + root.Bokeh.version + \" successfully loaded.\";\n",
       "      }\n",
       "    } else if (Date.now() < root._bokeh_timeout) {\n",
       "      setTimeout(display_loaded, 100)\n",
       "    }\n",
       "  }\n",
       "\n",
       "\n",
       "  function run_callbacks() {\n",
       "    try {\n",
       "      root._bokeh_onload_callbacks.forEach(function(callback) { callback() });\n",
       "    }\n",
       "    finally {\n",
       "      delete root._bokeh_onload_callbacks\n",
       "    }\n",
       "    console.info(\"Bokeh: all callbacks have finished\");\n",
       "  }\n",
       "\n",
       "  function load_libs(js_urls, callback) {\n",
       "    root._bokeh_onload_callbacks.push(callback);\n",
       "    if (root._bokeh_is_loading > 0) {\n",
       "      console.log(\"Bokeh: BokehJS is being loaded, scheduling callback at\", now());\n",
       "      return null;\n",
       "    }\n",
       "    if (js_urls == null || js_urls.length === 0) {\n",
       "      run_callbacks();\n",
       "      return null;\n",
       "    }\n",
       "    console.log(\"Bokeh: BokehJS not loaded, scheduling load and callback at\", now());\n",
       "    root._bokeh_is_loading = js_urls.length;\n",
       "    for (var i = 0; i < js_urls.length; i++) {\n",
       "      var url = js_urls[i];\n",
       "      var s = document.createElement('script');\n",
       "      s.src = url;\n",
       "      s.async = false;\n",
       "      s.onreadystatechange = s.onload = function() {\n",
       "        root._bokeh_is_loading--;\n",
       "        if (root._bokeh_is_loading === 0) {\n",
       "          console.log(\"Bokeh: all BokehJS libraries loaded\");\n",
       "          run_callbacks()\n",
       "        }\n",
       "      };\n",
       "      s.onerror = function() {\n",
       "        console.warn(\"failed to load library \" + url);\n",
       "      };\n",
       "      console.log(\"Bokeh: injecting script tag for BokehJS library: \", url);\n",
       "      document.getElementsByTagName(\"head\")[0].appendChild(s);\n",
       "    }\n",
       "  };var element = document.getElementById(\"1001\");\n",
       "  if (element == null) {\n",
       "    console.log(\"Bokeh: ERROR: autoload.js configured with elementid '1001' but no matching script tag was found. \")\n",
       "    return false;\n",
       "  }\n",
       "\n",
       "  var js_urls = [\"https://cdn.pydata.org/bokeh/release/bokeh-1.0.4.min.js\", \"https://cdn.pydata.org/bokeh/release/bokeh-widgets-1.0.4.min.js\", \"https://cdn.pydata.org/bokeh/release/bokeh-tables-1.0.4.min.js\", \"https://cdn.pydata.org/bokeh/release/bokeh-gl-1.0.4.min.js\"];\n",
       "\n",
       "  var inline_js = [\n",
       "    function(Bokeh) {\n",
       "      Bokeh.set_log_level(\"info\");\n",
       "    },\n",
       "    \n",
       "    function(Bokeh) {\n",
       "      \n",
       "    },\n",
       "    function(Bokeh) {\n",
       "      console.log(\"Bokeh: injecting CSS: https://cdn.pydata.org/bokeh/release/bokeh-1.0.4.min.css\");\n",
       "      Bokeh.embed.inject_css(\"https://cdn.pydata.org/bokeh/release/bokeh-1.0.4.min.css\");\n",
       "      console.log(\"Bokeh: injecting CSS: https://cdn.pydata.org/bokeh/release/bokeh-widgets-1.0.4.min.css\");\n",
       "      Bokeh.embed.inject_css(\"https://cdn.pydata.org/bokeh/release/bokeh-widgets-1.0.4.min.css\");\n",
       "      console.log(\"Bokeh: injecting CSS: https://cdn.pydata.org/bokeh/release/bokeh-tables-1.0.4.min.css\");\n",
       "      Bokeh.embed.inject_css(\"https://cdn.pydata.org/bokeh/release/bokeh-tables-1.0.4.min.css\");\n",
       "    }\n",
       "  ];\n",
       "\n",
       "  function run_inline_js() {\n",
       "    \n",
       "    if ((root.Bokeh !== undefined) || (force === true)) {\n",
       "      for (var i = 0; i < inline_js.length; i++) {\n",
       "        inline_js[i].call(root, root.Bokeh);\n",
       "      }if (force === true) {\n",
       "        display_loaded();\n",
       "      }} else if (Date.now() < root._bokeh_timeout) {\n",
       "      setTimeout(run_inline_js, 100);\n",
       "    } else if (!root._bokeh_failed_load) {\n",
       "      console.log(\"Bokeh: BokehJS failed to load within specified timeout.\");\n",
       "      root._bokeh_failed_load = true;\n",
       "    } else if (force !== true) {\n",
       "      var cell = $(document.getElementById(\"1001\")).parents('.cell').data().cell;\n",
       "      cell.output_area.append_execute_result(NB_LOAD_WARNING)\n",
       "    }\n",
       "\n",
       "  }\n",
       "\n",
       "  if (root._bokeh_is_loading === 0) {\n",
       "    console.log(\"Bokeh: BokehJS loaded, going straight to plotting\");\n",
       "    run_inline_js();\n",
       "  } else {\n",
       "    load_libs(js_urls, function() {\n",
       "      console.log(\"Bokeh: BokehJS plotting callback run at\", now());\n",
       "      run_inline_js();\n",
       "    });\n",
       "  }\n",
       "}(window));"
      ],
      "application/vnd.bokehjs_load.v0+json": "\n(function(root) {\n  function now() {\n    return new Date();\n  }\n\n  var force = true;\n\n  if (typeof (root._bokeh_onload_callbacks) === \"undefined\" || force === true) {\n    root._bokeh_onload_callbacks = [];\n    root._bokeh_is_loading = undefined;\n  }\n\n  \n\n  \n  if (typeof (root._bokeh_timeout) === \"undefined\" || force === true) {\n    root._bokeh_timeout = Date.now() + 5000;\n    root._bokeh_failed_load = false;\n  }\n\n  var NB_LOAD_WARNING = {'data': {'text/html':\n     \"<div style='background-color: #fdd'>\\n\"+\n     \"<p>\\n\"+\n     \"BokehJS does not appear to have successfully loaded. If loading BokehJS from CDN, this \\n\"+\n     \"may be due to a slow or bad network connection. Possible fixes:\\n\"+\n     \"</p>\\n\"+\n     \"<ul>\\n\"+\n     \"<li>re-rerun `output_notebook()` to attempt to load from CDN again, or</li>\\n\"+\n     \"<li>use INLINE resources instead, as so:</li>\\n\"+\n     \"</ul>\\n\"+\n     \"<code>\\n\"+\n     \"from bokeh.resources import INLINE\\n\"+\n     \"output_notebook(resources=INLINE)\\n\"+\n     \"</code>\\n\"+\n     \"</div>\"}};\n\n  function display_loaded() {\n    var el = document.getElementById(\"1001\");\n    if (el != null) {\n      el.textContent = \"BokehJS is loading...\";\n    }\n    if (root.Bokeh !== undefined) {\n      if (el != null) {\n        el.textContent = \"BokehJS \" + root.Bokeh.version + \" successfully loaded.\";\n      }\n    } else if (Date.now() < root._bokeh_timeout) {\n      setTimeout(display_loaded, 100)\n    }\n  }\n\n\n  function run_callbacks() {\n    try {\n      root._bokeh_onload_callbacks.forEach(function(callback) { callback() });\n    }\n    finally {\n      delete root._bokeh_onload_callbacks\n    }\n    console.info(\"Bokeh: all callbacks have finished\");\n  }\n\n  function load_libs(js_urls, callback) {\n    root._bokeh_onload_callbacks.push(callback);\n    if (root._bokeh_is_loading > 0) {\n      console.log(\"Bokeh: BokehJS is being loaded, scheduling callback at\", now());\n      return null;\n    }\n    if (js_urls == null || js_urls.length === 0) {\n      run_callbacks();\n      return null;\n    }\n    console.log(\"Bokeh: BokehJS not loaded, scheduling load and callback at\", now());\n    root._bokeh_is_loading = js_urls.length;\n    for (var i = 0; i < js_urls.length; i++) {\n      var url = js_urls[i];\n      var s = document.createElement('script');\n      s.src = url;\n      s.async = false;\n      s.onreadystatechange = s.onload = function() {\n        root._bokeh_is_loading--;\n        if (root._bokeh_is_loading === 0) {\n          console.log(\"Bokeh: all BokehJS libraries loaded\");\n          run_callbacks()\n        }\n      };\n      s.onerror = function() {\n        console.warn(\"failed to load library \" + url);\n      };\n      console.log(\"Bokeh: injecting script tag for BokehJS library: \", url);\n      document.getElementsByTagName(\"head\")[0].appendChild(s);\n    }\n  };var element = document.getElementById(\"1001\");\n  if (element == null) {\n    console.log(\"Bokeh: ERROR: autoload.js configured with elementid '1001' but no matching script tag was found. \")\n    return false;\n  }\n\n  var js_urls = [\"https://cdn.pydata.org/bokeh/release/bokeh-1.0.4.min.js\", \"https://cdn.pydata.org/bokeh/release/bokeh-widgets-1.0.4.min.js\", \"https://cdn.pydata.org/bokeh/release/bokeh-tables-1.0.4.min.js\", \"https://cdn.pydata.org/bokeh/release/bokeh-gl-1.0.4.min.js\"];\n\n  var inline_js = [\n    function(Bokeh) {\n      Bokeh.set_log_level(\"info\");\n    },\n    \n    function(Bokeh) {\n      \n    },\n    function(Bokeh) {\n      console.log(\"Bokeh: injecting CSS: https://cdn.pydata.org/bokeh/release/bokeh-1.0.4.min.css\");\n      Bokeh.embed.inject_css(\"https://cdn.pydata.org/bokeh/release/bokeh-1.0.4.min.css\");\n      console.log(\"Bokeh: injecting CSS: https://cdn.pydata.org/bokeh/release/bokeh-widgets-1.0.4.min.css\");\n      Bokeh.embed.inject_css(\"https://cdn.pydata.org/bokeh/release/bokeh-widgets-1.0.4.min.css\");\n      console.log(\"Bokeh: injecting CSS: https://cdn.pydata.org/bokeh/release/bokeh-tables-1.0.4.min.css\");\n      Bokeh.embed.inject_css(\"https://cdn.pydata.org/bokeh/release/bokeh-tables-1.0.4.min.css\");\n    }\n  ];\n\n  function run_inline_js() {\n    \n    if ((root.Bokeh !== undefined) || (force === true)) {\n      for (var i = 0; i < inline_js.length; i++) {\n        inline_js[i].call(root, root.Bokeh);\n      }if (force === true) {\n        display_loaded();\n      }} else if (Date.now() < root._bokeh_timeout) {\n      setTimeout(run_inline_js, 100);\n    } else if (!root._bokeh_failed_load) {\n      console.log(\"Bokeh: BokehJS failed to load within specified timeout.\");\n      root._bokeh_failed_load = true;\n    } else if (force !== true) {\n      var cell = $(document.getElementById(\"1001\")).parents('.cell').data().cell;\n      cell.output_area.append_execute_result(NB_LOAD_WARNING)\n    }\n\n  }\n\n  if (root._bokeh_is_loading === 0) {\n    console.log(\"Bokeh: BokehJS loaded, going straight to plotting\");\n    run_inline_js();\n  } else {\n    load_libs(js_urls, function() {\n      console.log(\"Bokeh: BokehJS plotting callback run at\", now());\n      run_inline_js();\n    });\n  }\n}(window));"
     },
     "metadata": {},
     "output_type": "display_data"
    }
   ],
   "source": [
    "#tree viz\n",
    "%pylab inline\n",
    "from IPython.display import Image\n",
    "import pydotplus\n",
    "#gplearn\n",
    "from gplearn.genetic import SymbolicRegressor\n",
    "from gplearn.fitness import make_fitness\n",
    "\n",
    "#--Import the standard libraries--\n",
    "import math\n",
    "import random\n",
    "import matplotlib.pyplot as plt\n",
    "import numpy as np\n",
    "\n",
    "#imports for bokeh\n",
    "from ipywidgets import interact\n",
    "\n",
    "from bokeh.io import push_notebook, show, output_notebook\n",
    "from bokeh.plotting import figure\n",
    "from bokeh.models import ColumnDataSource, Range1d, LinearAxis\n",
    "\n",
    "output_notebook()\n",
    " \n",
    "#prints more verbose output\n",
    "DEBUG = True\n",
    "verbose_value = 0\n",
    "if(DEBUG): verbose_value = 1"
   ]
  },
  {
   "cell_type": "markdown",
   "metadata": {},
   "source": [
    "\n",
    "# Read in test data\n",
    "\n",
    "## format:\n",
    "\n",
    "### details:\n",
    "\n",
    "|#step  |#stride |\n",
    "|-------|--------|\n",
    "\n",
    "### training data:\n",
    "\n",
    "|#rows  |1|\n",
    "|-------|-|\n",
    "|row1   | |\n",
    "|row2   | |\n",
    "|...    | |\n",
    "|lastrow| |\n",
    "\n",
    "Note, training data is also used as the test data in this case"
   ]
  },
  {
   "cell_type": "code",
   "execution_count": 3,
   "metadata": {},
   "outputs": [
    {
     "name": "stdout",
     "output_type": "stream",
     "text": [
      "num_rows:101 steps:2 strides: 1 samples: 98\n"
     ]
    }
   ],
   "source": [
    "#specfy folder/filename for data to be read in\n",
    "folder = \"data\" \n",
    "filename = \"testsine.mat\"\n",
    "filename_full = folder + \"\\\\\" +filename\n",
    "\n",
    "#gets the step, str stride, hidden\n",
    "def get_steps_stride():\n",
    "    with open(filename_full, 'r') as file:\n",
    "        line = file.readline()\n",
    "        data_temp = list(map(int,line[::2]))\n",
    "        #strip off the # of hidden nodes since we don't need\n",
    "        data = tuple(data_temp[:2])\n",
    "    return data\n",
    "\n",
    "#returns a tuple of number of rows fortraining data\n",
    "def get_num_rows():\n",
    "    with open(filename_full, 'r') as file:\n",
    "            lines = file.readlines()\n",
    "            #Read in the num of rows for training data\n",
    "            line = lines[1]\n",
    "            num_rows = int(line.split(\" \")[0])\n",
    "    return num_rows\n",
    "\n",
    "data_raw = np.genfromtxt(filename_full, dtype = \"float64\", skip_header = 2)\n",
    "#get num rows is not used because it was incorrect for some of the datasets\n",
    "num_rows = data_raw.shape[0]\n",
    "steps,stride = get_steps_stride()\n",
    "\n",
    "#calculate the max number of samples given the steps and stride\n",
    "samples = (num_rows)-(steps+1)*stride\n",
    "\n",
    "\n",
    "#If debug mode, print more verbose details\n",
    "if(DEBUG):print(\"num_rows:{} steps:{} strides: {} samples: {}\".format(num_rows,steps,stride,samples))"
   ]
  },
  {
   "cell_type": "markdown",
   "metadata": {},
   "source": [
    "# Plot the data in bokeh, x dimension is unknown."
   ]
  },
  {
   "cell_type": "code",
   "execution_count": 4,
   "metadata": {},
   "outputs": [],
   "source": [
    "x_max = 1.0\n",
    "x = np.linspace(0, x_max, num_rows)\n",
    "y = data_raw\n"
   ]
  },
  {
   "cell_type": "code",
   "execution_count": 5,
   "metadata": {},
   "outputs": [],
   "source": [
    "\n",
    "plot = figure(title=filename+\" input\",\n",
    "              plot_height=300,\n",
    "              plot_width=600,\n",
    "              y_range=(min(data_raw)-1,max(data_raw)+1),\n",
    "              x_range=(0,1),\n",
    "              background_fill_color='#efefef',\n",
    "              toolbar_location=None,\n",
    "              active_drag=None)\n",
    "line = plot.line(x, y, color=\"#8888cc\", line_width=1.5, alpha=0.8)"
   ]
  },
  {
   "cell_type": "code",
   "execution_count": 6,
   "metadata": {},
   "outputs": [
    {
     "data": {
      "text/html": [
       "\n",
       "\n",
       "\n",
       "\n",
       "\n",
       "\n",
       "  <div class=\"bk-root\" id=\"d72b3104-d20e-4605-a266-63c29be42f64\" data-root-id=\"1003\"></div>\n"
      ]
     },
     "metadata": {},
     "output_type": "display_data"
    },
    {
     "data": {
      "application/javascript": [
       "(function(root) {\n",
       "  function embed_document(root) {\n",
       "    \n",
       "  var docs_json = {\"aa1b59b3-c144-4a2a-801d-666ef4cbd5f4\":{\"roots\":{\"references\":[{\"attributes\":{\"background_fill_color\":{\"value\":\"#efefef\"},\"below\":[{\"id\":\"1013\",\"type\":\"LinearAxis\"}],\"left\":[{\"id\":\"1018\",\"type\":\"LinearAxis\"}],\"plot_height\":300,\"renderers\":[{\"id\":\"1013\",\"type\":\"LinearAxis\"},{\"id\":\"1017\",\"type\":\"Grid\"},{\"id\":\"1018\",\"type\":\"LinearAxis\"},{\"id\":\"1022\",\"type\":\"Grid\"},{\"id\":\"1031\",\"type\":\"BoxAnnotation\"},{\"id\":\"1041\",\"type\":\"GlyphRenderer\"}],\"title\":{\"id\":\"1002\",\"type\":\"Title\"},\"toolbar\":{\"id\":\"1029\",\"type\":\"Toolbar\"},\"toolbar_location\":null,\"x_range\":{\"id\":\"1005\",\"type\":\"Range1d\"},\"x_scale\":{\"id\":\"1009\",\"type\":\"LinearScale\"},\"y_range\":{\"id\":\"1007\",\"type\":\"Range1d\"},\"y_scale\":{\"id\":\"1011\",\"type\":\"LinearScale\"}},\"id\":\"1003\",\"subtype\":\"Figure\",\"type\":\"Plot\"},{\"attributes\":{\"plot\":{\"id\":\"1003\",\"subtype\":\"Figure\",\"type\":\"Plot\"},\"ticker\":{\"id\":\"1014\",\"type\":\"BasicTicker\"}},\"id\":\"1017\",\"type\":\"Grid\"},{\"attributes\":{\"data_source\":{\"id\":\"1038\",\"type\":\"ColumnDataSource\"},\"glyph\":{\"id\":\"1039\",\"type\":\"Line\"},\"hover_glyph\":null,\"muted_glyph\":null,\"nonselection_glyph\":{\"id\":\"1040\",\"type\":\"Line\"},\"selection_glyph\":null,\"view\":{\"id\":\"1042\",\"type\":\"CDSView\"}},\"id\":\"1041\",\"type\":\"GlyphRenderer\"},{\"attributes\":{\"formatter\":{\"id\":\"1046\",\"type\":\"BasicTickFormatter\"},\"plot\":{\"id\":\"1003\",\"subtype\":\"Figure\",\"type\":\"Plot\"},\"ticker\":{\"id\":\"1019\",\"type\":\"BasicTicker\"}},\"id\":\"1018\",\"type\":\"LinearAxis\"},{\"attributes\":{\"callback\":null,\"data\":{\"x\":{\"__ndarray__\":\"AAAAAAAAAAB7FK5H4XqEP3sUrkfhepQ/uB6F61G4nj97FK5H4XqkP5qZmZmZmak/uB6F61G4rj/sUbgeheuxP3sUrkfherQ/CtejcD0Ktz+amZmZmZm5Pylcj8L1KLw/uB6F61G4vj+kcD0K16PAP+xRuB6F68E/MzMzMzMzwz97FK5H4XrEP8P1KFyPwsU/CtejcD0Kxz9SuB6F61HIP5qZmZmZmck/4XoUrkfhyj8pXI/C9SjMP3E9CtejcM0/uB6F61G4zj8AAAAAAADQP6RwPQrXo9A/SOF6FK5H0T/sUbgehevRP4/C9Shcj9I/MzMzMzMz0z/Xo3A9CtfTP3sUrkfhetQ/H4XrUbge1T/D9Shcj8LVP2dmZmZmZtY/CtejcD0K1z+uR+F6FK7XP1K4HoXrUdg/9ihcj8L12D+amZmZmZnZPz4K16NwPdo/4XoUrkfh2j+F61G4HoXbPylcj8L1KNw/zczMzMzM3D9xPQrXo3DdPxWuR+F6FN4/uB6F61G43j9cj8L1KFzfPwAAAAAAAOA/UrgehetR4D+kcD0K16PgP/YoXI/C9eA/SOF6FK5H4T+amZmZmZnhP+xRuB6F6+E/PgrXo3A94j+PwvUoXI/iP+F6FK5H4eI/MzMzMzMz4z+F61G4HoXjP9ejcD0K1+M/KVyPwvUo5D97FK5H4XrkP83MzMzMzOQ/H4XrUbge5T9xPQrXo3DlP8P1KFyPwuU/Fa5H4XoU5j9nZmZmZmbmP7gehetRuOY/CtejcD0K5z9cj8L1KFznP65H4XoUruc/AAAAAAAA6D9SuB6F61HoP6RwPQrXo+g/9ihcj8L16D9I4XoUrkfpP5qZmZmZmek/7FG4HoXr6T8+CtejcD3qP5DC9Shcj+o/4XoUrkfh6j8zMzMzMzPrP4XrUbgehes/16NwPQrX6z8pXI/C9SjsP3sUrkfheuw/zczMzMzM7D8fhetRuB7tP3E9CtejcO0/w/UoXI/C7T8VrkfhehTuP2dmZmZmZu4/uB6F61G47j8K16NwPQrvP1yPwvUoXO8/rkfhehSu7z8AAAAAAADwPw==\",\"dtype\":\"float64\",\"shape\":[101]},\"y\":{\"__ndarray__\":\"AAAAAAAA8D9QcRx4tVzvP7HfE+tUee0/P8QGCydp6j/gnXx6bEvmPxvUfmsnSuE/+Wncm98w1z8JGjOJesHFPzP7PEZ55p2/O/vKg/QUzb9XBtUGJ6Lav7k5lQwA1eK/L4hITbuY578qq+l6omvrv3dLcsCuJu6/+KbpswOu77+LVBhbCPLvv5rS+lsC8O6/z6RN1T2y7L9F14UfnE/pv4FAZ9Km6uS/u0VgrG9g378D0v4HWKvTvzT2JRsPtry/sMVun1Vmtj+HjEephCfSP5uuJ7ou/N0/DAHAsWdP5D8Ud7zJb9HoP4OG/gkuVuw/0jWTb7a57j/S5GIMrOPvP5wWvOgryO8/GY9SCU9o7j9GskeoGdLrP59yTBb3H+g/CaUvhJx34z8EkrBvJxHcP9u/stKkFNA/QpzizAqgqz85tMh2vp/Cv6KXUSy3tNW/e4UF9wOe4L8OhGQBE7jlvwN3oE559Om/gPEMGvon7b9YdVYL7DHvv7tIoSx8/e+/zm+YaJCC77+aIyu/DMbtv3Ko34Wt2eq/raHUXkTb5r9VibK3lPPhv7H8+bZgqdi/5NpQMc7fyL+bxTDMriByP1xV9l0R/Mk/L00R4PQu2T9WmpSCbi/iP2q932jHDec/PSmTGtoA6z+T4A1pVODtP2h1cobiju8/z0nvG1/77z+zBu+rciHvP1VOe0rOCe0/StQLPs3J6T9ANPPkmoLlP7FvJxHhX+A/662BrRIs1T98mpMXmYDBP4DS9ekdE7C/IXh8e9eg0L9Q5EnSNZPcv/PmcK32sOO/mzxlNV1P6L/OwwlMp/Xrv7kANEqXfu6/0uKMYU7Q778Q6EzaVN3vv8QKt3wkpe6/CoZzDTM07L8F3PP8aaPovzhr8L4qF+S/Ew69xcN73b+PboRFRZzRv1Z86CdBJLS/lL2lnC/2vj9YIHpSJjXUP9s0tteC3t8/SMX/HVEh5T+KVYMwt3vpP6cFL/oK0uw/KljjbDoC7z/qIoWy8PXvP6SIDKt4o+8/y/j3GRcO7j/OjlTf+UXrP3sS2JyDZ+c//z9OmDCa4j97hQX3Ax7aPw==\",\"dtype\":\"float64\",\"shape\":[101]}},\"selected\":{\"id\":\"1049\",\"type\":\"Selection\"},\"selection_policy\":{\"id\":\"1050\",\"type\":\"UnionRenderers\"}},\"id\":\"1038\",\"type\":\"ColumnDataSource\"},{\"attributes\":{},\"id\":\"1019\",\"type\":\"BasicTicker\"},{\"attributes\":{\"dimension\":1,\"plot\":{\"id\":\"1003\",\"subtype\":\"Figure\",\"type\":\"Plot\"},\"ticker\":{\"id\":\"1019\",\"type\":\"BasicTicker\"}},\"id\":\"1022\",\"type\":\"Grid\"},{\"attributes\":{},\"id\":\"1046\",\"type\":\"BasicTickFormatter\"},{\"attributes\":{\"callback\":null},\"id\":\"1005\",\"type\":\"Range1d\"},{\"attributes\":{\"line_alpha\":0.1,\"line_color\":\"#1f77b4\",\"line_width\":1.5,\"x\":{\"field\":\"x\"},\"y\":{\"field\":\"y\"}},\"id\":\"1040\",\"type\":\"Line\"},{\"attributes\":{},\"id\":\"1050\",\"type\":\"UnionRenderers\"},{\"attributes\":{},\"id\":\"1049\",\"type\":\"Selection\"},{\"attributes\":{\"active_drag\":null,\"active_inspect\":\"auto\",\"active_multi\":null,\"active_scroll\":\"auto\",\"active_tap\":\"auto\",\"tools\":[{\"id\":\"1023\",\"type\":\"PanTool\"},{\"id\":\"1024\",\"type\":\"WheelZoomTool\"},{\"id\":\"1025\",\"type\":\"BoxZoomTool\"},{\"id\":\"1026\",\"type\":\"SaveTool\"},{\"id\":\"1027\",\"type\":\"ResetTool\"},{\"id\":\"1028\",\"type\":\"HelpTool\"}]},\"id\":\"1029\",\"type\":\"Toolbar\"},{\"attributes\":{},\"id\":\"1011\",\"type\":\"LinearScale\"},{\"attributes\":{\"line_alpha\":0.8,\"line_color\":\"#8888cc\",\"line_width\":1.5,\"x\":{\"field\":\"x\"},\"y\":{\"field\":\"y\"}},\"id\":\"1039\",\"type\":\"Line\"},{\"attributes\":{\"bottom_units\":\"screen\",\"fill_alpha\":{\"value\":0.5},\"fill_color\":{\"value\":\"lightgrey\"},\"left_units\":\"screen\",\"level\":\"overlay\",\"line_alpha\":{\"value\":1.0},\"line_color\":{\"value\":\"black\"},\"line_dash\":[4,4],\"line_width\":{\"value\":2},\"plot\":null,\"render_mode\":\"css\",\"right_units\":\"screen\",\"top_units\":\"screen\"},\"id\":\"1031\",\"type\":\"BoxAnnotation\"},{\"attributes\":{},\"id\":\"1023\",\"type\":\"PanTool\"},{\"attributes\":{},\"id\":\"1028\",\"type\":\"HelpTool\"},{\"attributes\":{\"formatter\":{\"id\":\"1044\",\"type\":\"BasicTickFormatter\"},\"plot\":{\"id\":\"1003\",\"subtype\":\"Figure\",\"type\":\"Plot\"},\"ticker\":{\"id\":\"1014\",\"type\":\"BasicTicker\"}},\"id\":\"1013\",\"type\":\"LinearAxis\"},{\"attributes\":{},\"id\":\"1044\",\"type\":\"BasicTickFormatter\"},{\"attributes\":{},\"id\":\"1027\",\"type\":\"ResetTool\"},{\"attributes\":{},\"id\":\"1009\",\"type\":\"LinearScale\"},{\"attributes\":{},\"id\":\"1024\",\"type\":\"WheelZoomTool\"},{\"attributes\":{\"plot\":null,\"text\":\"testsine.mat input\"},\"id\":\"1002\",\"type\":\"Title\"},{\"attributes\":{},\"id\":\"1014\",\"type\":\"BasicTicker\"},{\"attributes\":{\"overlay\":{\"id\":\"1031\",\"type\":\"BoxAnnotation\"}},\"id\":\"1025\",\"type\":\"BoxZoomTool\"},{\"attributes\":{\"callback\":null,\"end\":2.0,\"start\":-1.9996930000000002},\"id\":\"1007\",\"type\":\"Range1d\"},{\"attributes\":{},\"id\":\"1026\",\"type\":\"SaveTool\"},{\"attributes\":{\"source\":{\"id\":\"1038\",\"type\":\"ColumnDataSource\"}},\"id\":\"1042\",\"type\":\"CDSView\"}],\"root_ids\":[\"1003\"]},\"title\":\"Bokeh Application\",\"version\":\"1.0.4\"}};\n",
       "  var render_items = [{\"docid\":\"aa1b59b3-c144-4a2a-801d-666ef4cbd5f4\",\"roots\":{\"1003\":\"d72b3104-d20e-4605-a266-63c29be42f64\"}}];\n",
       "  root.Bokeh.embed.embed_items_notebook(docs_json, render_items);\n",
       "\n",
       "  }\n",
       "  if (root.Bokeh !== undefined) {\n",
       "    embed_document(root);\n",
       "  } else {\n",
       "    var attempts = 0;\n",
       "    var timer = setInterval(function(root) {\n",
       "      if (root.Bokeh !== undefined) {\n",
       "        embed_document(root);\n",
       "        clearInterval(timer);\n",
       "      }\n",
       "      attempts++;\n",
       "      if (attempts > 100) {\n",
       "        console.log(\"Bokeh: ERROR: Unable to run BokehJS code because BokehJS library is missing\");\n",
       "        clearInterval(timer);\n",
       "      }\n",
       "    }, 10, root)\n",
       "  }\n",
       "})(window);"
      ],
      "application/vnd.bokehjs_exec.v0+json": ""
     },
     "metadata": {
      "application/vnd.bokehjs_exec.v0+json": {
       "id": "1003"
      }
     },
     "output_type": "display_data"
    }
   ],
   "source": [
    "show(plot)"
   ]
  },
  {
   "cell_type": "markdown",
   "metadata": {},
   "source": [
    "# Setup the training data\n",
    "\n"
   ]
  },
  {
   "cell_type": "code",
   "execution_count": 7,
   "metadata": {},
   "outputs": [],
   "source": [
    "stack_input = [(data_raw[begin:begin+(steps+1)*stride:stride])[0:steps] for begin in range(0,samples)]\n",
    "stack_target = [(data_raw[begin:begin+(steps+1)*stride:stride])[-1] for begin in range(0,samples)]\n",
    "num_samples = samples\n",
    "train_x = np.stack(stack_input)\n",
    "train_y = np.stack(stack_target)\n"
   ]
  },
  {
   "cell_type": "markdown",
   "metadata": {},
   "source": [
    "# Custom Fitness function\n",
    "Here is where the real usage of gplearn begins, here we define a fitness function that tests the diffrence from the result to the selected training values using RMSE. This function is actually built into gplearn, but figured it was better to show how to make your own fitness function"
   ]
  },
  {
   "cell_type": "code",
   "execution_count": 8,
   "metadata": {},
   "outputs": [],
   "source": [
    "#fittness function\n",
    "\n",
    "def _custom_fitness(y, y_pred, w):\n",
    "    return np.sqrt(np.mean((y_pred-y)**2))\n",
    "\n",
    "custom_fitness = make_fitness(_custom_fitness, greater_is_better=False)"
   ]
  },
  {
   "cell_type": "markdown",
   "metadata": {},
   "source": [
    "# Symbolic regression\n",
    "\n",
    "We run a symbolic regression on a 1000 individuals for 20 generations. There are three kinds of mutation, subtree, hoist, and point. The hoist mutation is the only type that differs significantly from what was talked about in class. In it, a random subtree is selected, then, a random subtree from within it is lifted to it’s root node. It is used to combat tree bloat, and it appears to be very effective. Without the hoist mutation, tree trees grew like redwoods."
   ]
  },
  {
   "cell_type": "code",
   "execution_count": 9,
   "metadata": {},
   "outputs": [
    {
     "name": "stdout",
     "output_type": "stream",
     "text": [
      "    |    Population Average   |             Best Individual              |\n",
      "---- ------------------------- ------------------------------------------ ----------\n",
      " Gen   Length          Fitness   Length          Fitness      OOB Fitness  Time Left\n",
      "   0    26.67 192.94726941105804        5 0.140173091053324 0.140173091053324      7.29s\n",
      "   1     9.16 3.1711157857200187        7 0.05373892328925863 0.05373892328925863     16.70s\n",
      "   2     4.85 0.8980942751097309        5 0.028475677347945306 0.028475677347945306     14.95s\n",
      "   3     3.74 145.61676924085847        5 0.028475677347945306 0.028475677347945306     12.81s\n",
      "   4     6.77 1.017970489912353        5 0.028475677347945306 0.028475677347945306     12.67s\n",
      "   5      5.3 1.7384375410430435        5 0.028475677347945306 0.028475677347945306     12.34s\n",
      "   6     5.14 0.5668066974817846        5 0.028475677347945306 0.028475677347945306     11.78s\n",
      "   7      5.3 0.8974308414365505        5 0.028475677347945306 0.028475677347945306     11.09s\n",
      "   8     5.17 0.6652583548907146        5 0.028475677347945306 0.028475677347945306     10.34s\n",
      "   9     5.11 0.579900813141921        5 0.028475677347945306 0.028475677347945306      9.55s\n",
      "  10      5.2 0.5985690288873005        5 0.028475677347945306 0.028475677347945306      8.73s\n",
      "  11     5.23 10.391966828761463        5 0.028475677347945306 0.028475677347945306      7.84s\n",
      "  12     5.09 0.842245992210338        5 0.028475677347945306 0.028475677347945306      6.90s\n",
      "  13     5.12 0.53861749261241        5 0.028475677347945306 0.028475677347945306      6.02s\n",
      "  14     5.33 0.6169624609628159        5 0.028475677347945306 0.028475677347945306      5.06s\n",
      "  15     5.08 0.6028158242989866        5 0.028475677347945306 0.028475677347945306      4.11s\n",
      "  16     5.28 0.6752542140111764        5 0.028475677347945306 0.028475677347945306      3.10s\n",
      "  17     5.17 0.885056354118716        5 0.028475677347945306 0.028475677347945306      2.08s\n",
      "  18     5.25 0.5733017743949133        5 0.028475677347945306 0.028475677347945306      1.05s\n",
      "  19     5.18 0.7046947400830699        5 0.028475677347945306 0.028475677347945306      0.00s\n"
     ]
    },
    {
     "data": {
      "text/plain": [
       "SymbolicRegressor(const_range=(-1.0, 1.0),\n",
       "         function_set=('add', 'sub', 'mul', 'div', 'sin'), generations=20,\n",
       "         init_depth=(2, 6), init_method='half and half', max_samples=0.9,\n",
       "         metric=<gplearn.fitness._Fitness object at 0x000001E7FCF90828>,\n",
       "         n_jobs=1, p_crossover=0.7, p_hoist_mutation=0.05,\n",
       "         p_point_mutation=0.1, p_point_replace=0.05,\n",
       "         p_subtree_mutation=0.1, parsimony_coefficient=0.001,\n",
       "         population_size=1000, random_state=0, stopping_criteria=0,\n",
       "         tournament_size=20, verbose=1, warm_start=False)"
      ]
     },
     "execution_count": 9,
     "metadata": {},
     "output_type": "execute_result"
    }
   ],
   "source": [
    "#This part sets up the symbolic regressor\n",
    "est = SymbolicRegressor(population_size=1000,\n",
    "                           generations=20, stopping_criteria=0,\n",
    "                           p_crossover=0.7, p_subtree_mutation=0.1,\n",
    "                           p_hoist_mutation=0.05, p_point_mutation=0.1,\n",
    "                           max_samples=0.9, verbose=verbose_value,\n",
    "                           parsimony_coefficient=0.001, random_state=0,\n",
    "                           metric = custom_fitness,\n",
    "                           function_set=('add', 'sub', 'mul', 'div',\"sin\")\n",
    "                           )\n",
    "#This part runs it on our data\n",
    "est.fit(train_x, train_y)"
   ]
  },
  {
   "cell_type": "markdown",
   "metadata": {},
   "source": [
    "# Plot The function it predicted in comparison with the actual function"
   ]
  },
  {
   "cell_type": "code",
   "execution_count": 10,
   "metadata": {},
   "outputs": [],
   "source": [
    "predict_y = est.predict(train_x)\n",
    "x = np.arange(0, samples)"
   ]
  },
  {
   "cell_type": "code",
   "execution_count": 62,
   "metadata": {},
   "outputs": [],
   "source": [
    "#testomg data sources\n",
    "data = {'x': [1]}\n",
    "source_1 = ColumnDataSource(data=data)"
   ]
  },
  {
   "cell_type": "code",
   "execution_count": 63,
   "metadata": {},
   "outputs": [],
   "source": [
    "##build plot 1\n",
    "\n",
    "plot_1 = figure(title=\"output\",\n",
    "              plot_height=300,\n",
    "              plot_width=600,\n",
    "              y_range=(min(data_raw)-1,max(data_raw)+1),\n",
    "              x_range=(0,samples),\n",
    "              background_fill_color='#efefef',\n",
    "              toolbar_location=None,\n",
    "              active_drag=None)\n",
    "\n",
    "\n",
    "plot_1.grid.grid_line_color = \"#9b9b9b\"\n",
    "plot_1.xaxis.ticker = [x for x in range (0,samples,5)]\n",
    "plot_1.xaxis.axis_label = \"Samples\"\n",
    "\n",
    "line_1 = plot_1.line(x, train_y, color=\"#8888cc\", line_width=1.5, alpha=0.8)\n",
    "line_2 = plot_1.line(x, predict_y, color=\"#9e0b0b\", line_width=1.5, alpha=0.8)\n",
    "\n",
    "\n",
    "h_line = plot_1.ray(x=\"x\", y=min(data_raw)-1, length=40, angle=90,\n",
    "      angle_units=\"deg\", color=\"#FB8072\", line_width=2, source = source_1)\n",
    "\n",
    "\n"
   ]
  },
  {
   "cell_type": "code",
   "execution_count": 64,
   "metadata": {},
   "outputs": [],
   "source": [
    "y_upper = 10\n",
    "x_upper = 10\n",
    "plot_2 = figure(title=\"output\",\n",
    "              plot_height=300,\n",
    "              plot_width=300,\n",
    "              y_range=(0,y_upper),\n",
    "              x_range=(0,x_upper),\n",
    "              background_fill_color='#efefef',\n",
    "              toolbar_location=None,\n",
    "              active_drag=None)\n",
    "\n",
    "#source = ColumnDataSource(dict(x=range(0,100),y=range(0,100)))"
   ]
  },
  {
   "cell_type": "code",
   "execution_count": 69,
   "metadata": {},
   "outputs": [],
   "source": [
    "def update_hline(new_x):\n",
    "    new_array = np.asarray([new_x])\n",
    "    #for value in h_line.data_source.data:\n",
    "        #print(value)\n",
    "    h_line.data_source.data['x'] = new_array\n",
    "    push_notebook(handle = h1)\n",
    "    \n",
    "def update_lim(x_lim,y_lim):\n",
    "    plot_2.y_range.start = 0 \n",
    "    plot_2.y_range.end = y_lim \n",
    "    plot_2.x_range.start = 0 \n",
    "    plot_2.x_range.end = x_lim \n",
    "    #line_2.data_source.data['y']\n",
    "    push_notebook(handle = h2)"
   ]
  },
  {
   "cell_type": "code",
   "execution_count": 70,
   "metadata": {},
   "outputs": [
    {
     "data": {
      "text/html": [
       "\n",
       "\n",
       "\n",
       "\n",
       "\n",
       "\n",
       "  <div class=\"bk-root\" id=\"488f2a10-a75f-4c73-9ef2-8419d68ed3ee\" data-root-id=\"4382\"></div>\n"
      ]
     },
     "metadata": {},
     "output_type": "display_data"
    },
    {
     "data": {
      "application/javascript": [
       "(function(root) {\n",
       "  function embed_document(root) {\n",
       "    \n",
       "  var docs_json = {\"bda3d953-be18-4263-bb2a-ba54bdcffe24\":{\"roots\":{\"references\":[{\"attributes\":{\"background_fill_color\":{\"value\":\"#efefef\"},\"below\":[{\"id\":\"4392\",\"type\":\"LinearAxis\"}],\"left\":[{\"id\":\"4397\",\"type\":\"LinearAxis\"}],\"plot_height\":300,\"renderers\":[{\"id\":\"4392\",\"type\":\"LinearAxis\"},{\"id\":\"4396\",\"type\":\"Grid\"},{\"id\":\"4397\",\"type\":\"LinearAxis\"},{\"id\":\"4401\",\"type\":\"Grid\"},{\"id\":\"4410\",\"type\":\"BoxAnnotation\"},{\"id\":\"4422\",\"type\":\"GlyphRenderer\"},{\"id\":\"4427\",\"type\":\"GlyphRenderer\"},{\"id\":\"4432\",\"type\":\"GlyphRenderer\"}],\"title\":{\"id\":\"4381\",\"type\":\"Title\"},\"toolbar\":{\"id\":\"4408\",\"type\":\"Toolbar\"},\"toolbar_location\":null,\"x_range\":{\"id\":\"4384\",\"type\":\"Range1d\"},\"x_scale\":{\"id\":\"4388\",\"type\":\"LinearScale\"},\"y_range\":{\"id\":\"4386\",\"type\":\"Range1d\"},\"y_scale\":{\"id\":\"4390\",\"type\":\"LinearScale\"}},\"id\":\"4382\",\"subtype\":\"Figure\",\"type\":\"Plot\"},{\"attributes\":{},\"id\":\"4405\",\"type\":\"SaveTool\"},{\"attributes\":{},\"id\":\"4398\",\"type\":\"BasicTicker\"},{\"attributes\":{},\"id\":\"4402\",\"type\":\"PanTool\"},{\"attributes\":{\"line_alpha\":0.8,\"line_color\":\"#9e0b0b\",\"line_width\":1.5,\"x\":{\"field\":\"x\"},\"y\":{\"field\":\"y\"}},\"id\":\"4425\",\"type\":\"Line\"},{\"attributes\":{\"overlay\":{\"id\":\"4410\",\"type\":\"BoxAnnotation\"}},\"id\":\"4404\",\"type\":\"BoxZoomTool\"},{\"attributes\":{\"grid_line_color\":{\"value\":\"#9b9b9b\"},\"plot\":{\"id\":\"4382\",\"subtype\":\"Figure\",\"type\":\"Plot\"},\"ticker\":{\"id\":\"4393\",\"type\":\"BasicTicker\"}},\"id\":\"4396\",\"type\":\"Grid\"},{\"attributes\":{\"line_alpha\":0.1,\"line_color\":\"#1f77b4\",\"line_width\":1.5,\"x\":{\"field\":\"x\"},\"y\":{\"field\":\"y\"}},\"id\":\"4426\",\"type\":\"Line\"},{\"attributes\":{},\"id\":\"4403\",\"type\":\"WheelZoomTool\"},{\"attributes\":{},\"id\":\"4547\",\"type\":\"Selection\"},{\"attributes\":{\"data_source\":{\"id\":\"4424\",\"type\":\"ColumnDataSource\"},\"glyph\":{\"id\":\"4425\",\"type\":\"Line\"},\"hover_glyph\":null,\"muted_glyph\":null,\"nonselection_glyph\":{\"id\":\"4426\",\"type\":\"Line\"},\"selection_glyph\":null,\"view\":{\"id\":\"4428\",\"type\":\"CDSView\"}},\"id\":\"4427\",\"type\":\"GlyphRenderer\"},{\"attributes\":{\"bottom_units\":\"screen\",\"fill_alpha\":{\"value\":0.5},\"fill_color\":{\"value\":\"lightgrey\"},\"left_units\":\"screen\",\"level\":\"overlay\",\"line_alpha\":{\"value\":1.0},\"line_color\":{\"value\":\"black\"},\"line_dash\":[4,4],\"line_width\":{\"value\":2},\"plot\":null,\"render_mode\":\"css\",\"right_units\":\"screen\",\"top_units\":\"screen\"},\"id\":\"4410\",\"type\":\"BoxAnnotation\"},{\"attributes\":{\"dimension\":1,\"grid_line_color\":{\"value\":\"#9b9b9b\"},\"plot\":{\"id\":\"4382\",\"subtype\":\"Figure\",\"type\":\"Plot\"},\"ticker\":{\"id\":\"4398\",\"type\":\"BasicTicker\"}},\"id\":\"4401\",\"type\":\"Grid\"},{\"attributes\":{\"plot\":null,\"text\":\"output\"},\"id\":\"4381\",\"type\":\"Title\"},{\"attributes\":{\"formatter\":{\"id\":\"4542\",\"type\":\"BasicTickFormatter\"},\"plot\":{\"id\":\"4382\",\"subtype\":\"Figure\",\"type\":\"Plot\"},\"ticker\":{\"id\":\"4398\",\"type\":\"BasicTicker\"}},\"id\":\"4397\",\"type\":\"LinearAxis\"},{\"attributes\":{\"source\":{\"id\":\"4424\",\"type\":\"ColumnDataSource\"}},\"id\":\"4428\",\"type\":\"CDSView\"},{\"attributes\":{},\"id\":\"4548\",\"type\":\"UnionRenderers\"},{\"attributes\":{\"data_source\":{\"id\":\"4419\",\"type\":\"ColumnDataSource\"},\"glyph\":{\"id\":\"4420\",\"type\":\"Line\"},\"hover_glyph\":null,\"muted_glyph\":null,\"nonselection_glyph\":{\"id\":\"4421\",\"type\":\"Line\"},\"selection_glyph\":null,\"view\":{\"id\":\"4423\",\"type\":\"CDSView\"}},\"id\":\"4422\",\"type\":\"GlyphRenderer\"},{\"attributes\":{\"source\":{\"id\":\"4419\",\"type\":\"ColumnDataSource\"}},\"id\":\"4423\",\"type\":\"CDSView\"},{\"attributes\":{\"callback\":null,\"data\":{\"x\":{\"__ndarray__\":\"AAAAAAEAAAACAAAAAwAAAAQAAAAFAAAABgAAAAcAAAAIAAAACQAAAAoAAAALAAAADAAAAA0AAAAOAAAADwAAABAAAAARAAAAEgAAABMAAAAUAAAAFQAAABYAAAAXAAAAGAAAABkAAAAaAAAAGwAAABwAAAAdAAAAHgAAAB8AAAAgAAAAIQAAACIAAAAjAAAAJAAAACUAAAAmAAAAJwAAACgAAAApAAAAKgAAACsAAAAsAAAALQAAAC4AAAAvAAAAMAAAADEAAAAyAAAAMwAAADQAAAA1AAAANgAAADcAAAA4AAAAOQAAADoAAAA7AAAAPAAAAD0AAAA+AAAAPwAAAEAAAABBAAAAQgAAAEMAAABEAAAARQAAAEYAAABHAAAASAAAAEkAAABKAAAASwAAAEwAAABNAAAATgAAAE8AAABQAAAAUQAAAFIAAABTAAAAVAAAAFUAAABWAAAAVwAAAFgAAABZAAAAWgAAAFsAAABcAAAAXQAAAF4AAABfAAAAYAAAAGEAAAA=\",\"dtype\":\"int32\",\"shape\":[98]},\"y\":{\"__ndarray__\":\"oOI48Gq57j8STgte9JXrP82o+Sr5WOc/gXfy6bEt4j+sFAK5xJHYP3hXdsHgmsc/AP+UKlH2lr/VWMLaGDvNv4grZ++MNtu/iEfi5elc479G8L+V7Fjov6XW+412XOy/Jc6KqIk+77/idf2C3XDwvzyBsFOsmvC/D4EjgQYb8L+pUN1c/O3tvwR3oE55dOq/uwm+afrs5b+9qUiFsYXgv3QK8rOR69S/LHl1jgHZv7+kW6/pQUG1P2XggJauYNI/omez6nO13j9Y6INlbOjkP8oqbAa4oOk/HO244XdT7T/ylUBK7NrvP5Dyk2qfjvA/6UmZ1NCG8D9mSBXFq6zvP5YH6SlyCO0/c9U8R+Q76T/4MlGE1G3kP+auJeSDnt0/9tkB1xUz0T/IttPWiGCwP5Yx9D5EWcK/wgdl0L8T1r+Uap+OxwzhvyU/4lesYea/oYLDCyLS6r/4adyb3zDuv/61vHK9LfC/mPxP/u6d8L8PDvYmhmTwv+GWj6SkB++/Zte9FYkJ7L9KLZRMTu3nv+iayTfb3OK/+uEgIcoX2r9wzR39L9fKv4AZbyu9Nmu/PucTHtkByj9GksWijrPZP9i3k4jwr+I/FI4glWLH5z9+4CpPIOzrPxCVRszs8+4/9EvEW+df8D8ehetRuJ7wPxsPttjtM/A/l8PuO4ZH7j/3lQfpKfLqPz9anDHMieY/NpTai2g74T9EVrd6TnrWP+j4aHHGMMM/eJtwr8xbrb9+tsSA28nQv6J7e3znPN2/QKiLFMpC5L++27xxUhjpv0OSWb3D7ey/AUuuYvGb77/SHi+kw4Pwv3bicrwCkfC/Tu0MU1vq7794LSEf9Gztv1ABMJ5Bw+m/ADJ07KAS5b/W9NkB1xXfv7ZFmQ0yydK/LDwvFRvztr+QwUDGkii+P+D9TBgohNQ/pmjlXmBW4D+vJHmu78PlPyJwJNBgU+o/zOUGQx3W7T/iWu1hLxTwP1bVy+80mfA/1XYTfNN08D9e7pOjAFHvP/Jo44i1eOw/0SSxpNx96D8olltaDYnjPw==\",\"dtype\":\"float64\",\"shape\":[98]}},\"selected\":{\"id\":\"4547\",\"type\":\"Selection\"},\"selection_policy\":{\"id\":\"4548\",\"type\":\"UnionRenderers\"}},\"id\":\"4424\",\"type\":\"ColumnDataSource\"},{\"attributes\":{\"callback\":null,\"data\":{\"x\":{\"__ndarray__\":\"AAAAAAEAAAACAAAAAwAAAAQAAAAFAAAABgAAAAcAAAAIAAAACQAAAAoAAAALAAAADAAAAA0AAAAOAAAADwAAABAAAAARAAAAEgAAABMAAAAUAAAAFQAAABYAAAAXAAAAGAAAABkAAAAaAAAAGwAAABwAAAAdAAAAHgAAAB8AAAAgAAAAIQAAACIAAAAjAAAAJAAAACUAAAAmAAAAJwAAACgAAAApAAAAKgAAACsAAAAsAAAALQAAAC4AAAAvAAAAMAAAADEAAAAyAAAAMwAAADQAAAA1AAAANgAAADcAAAA4AAAAOQAAADoAAAA7AAAAPAAAAD0AAAA+AAAAPwAAAEAAAABBAAAAQgAAAEMAAABEAAAARQAAAEYAAABHAAAASAAAAEkAAABKAAAASwAAAEwAAABNAAAATgAAAE8AAABQAAAAUQAAAFIAAABTAAAAVAAAAFUAAABWAAAAVwAAAFgAAABZAAAAWgAAAFsAAABcAAAAXQAAAF4AAABfAAAAYAAAAGEAAAA=\",\"dtype\":\"int32\",\"shape\":[98]},\"y\":{\"__ndarray__\":\"sd8T61R57T8/xAYLJ2nqP+CdfHpsS+Y/G9R+aydK4T/5adyb3zDXPwkaM4l6wcU/M/s8Rnnmnb87+8qD9BTNv1cG1QYnotq/uTmVDADV4r8viEhNu5jnvyqr6Xqia+u/d0tywK4m7r/4pumzA67vv4tUGFsI8u+/mtL6WwLw7r/PpE3VPbLsv0XXhR+cT+m/gUBn0qbq5L+7RWCsb2DfvwPS/gdYq9O/NPYlGw+2vL+wxW6fVWa2P4eMR6mEJ9I/m64nui783T8MAcCxZ0/kPxR3vMlv0eg/g4b+CS5W7D/SNZNvtrnuP9LkYgys4+8/nBa86CvI7z8Zj1IJT2juP0ayR6gZ0us/n3JMFvcf6D8JpS+EnHfjPwSSsG8nEdw/27+y0qQU0D9CnOLMCqCrPzm0yHa+n8K/opdRLLe01b97hQX3A57gvw6EZAETuOW/A3egTnn06b+A8Qwa+iftv1h1VgvsMe+/u0ihLHz977/Ob5hokILvv5ojK78Mxu2/cqjfha3Z6r+todReRNvmv1WJsreU8+G/sfz5tmCp2L/k2lAxzt/Iv5vFMMyuIHI/XFX2XRH8yT8vTRHg9C7ZP1aalIJuL+I/ar3faMcN5z89KZMa2gDrP5PgDWlU4O0/aHVyhuKO7z/PSe8bX/vvP7MG76tyIe8/VU57Ss4J7T9K1As+zcnpP0A08+SaguU/sW8nEeFf4D/rrYGtEizVP3yakxeZgME/gNL16R0TsL8heHx716DQv1DkSdI1k9y/8+Zwrfaw47+bPGU1XU/ov87DCUyn9eu/uQA0Spd+7r/S4oxhTtDvvxDoTNpU3e+/xAq3fCSl7r8KhnMNMzTsvwXc8/xpo+i/OGvwvioX5L8TDr3Fw3vdv49uhEVFnNG/VnzoJ0EktL+UvaWcL/a+P1ggelImNdQ/2zS214Le3z9Ixf8dUSHlP4pVgzC3e+k/pwUv+grS7D8qWONsOgLvP+oihbLw9e8/pIgMq3ij7z/L+PcZFw7uP86OVN/5Res/exLYnINn5z//P06YMJriPw==\",\"dtype\":\"float64\",\"shape\":[98]}},\"selected\":{\"id\":\"4545\",\"type\":\"Selection\"},\"selection_policy\":{\"id\":\"4546\",\"type\":\"UnionRenderers\"}},\"id\":\"4419\",\"type\":\"ColumnDataSource\"},{\"attributes\":{\"angle\":{\"units\":\"deg\",\"value\":90},\"length\":{\"units\":\"data\",\"value\":40},\"line_color\":{\"value\":\"#FB8072\"},\"line_width\":{\"value\":2},\"x\":{\"field\":\"x\"},\"y\":{\"value\":-1.9996930000000002}},\"id\":\"4430\",\"type\":\"Ray\"},{\"attributes\":{\"line_alpha\":0.1,\"line_color\":\"#1f77b4\",\"line_width\":1.5,\"x\":{\"field\":\"x\"},\"y\":{\"field\":\"y\"}},\"id\":\"4421\",\"type\":\"Line\"},{\"attributes\":{\"angle\":{\"units\":\"deg\",\"value\":90},\"length\":{\"units\":\"data\",\"value\":40},\"line_alpha\":{\"value\":0.1},\"line_color\":{\"value\":\"#1f77b4\"},\"line_width\":{\"value\":2},\"x\":{\"field\":\"x\"},\"y\":{\"value\":-1.9996930000000002}},\"id\":\"4431\",\"type\":\"Ray\"},{\"attributes\":{},\"id\":\"4407\",\"type\":\"HelpTool\"},{\"attributes\":{},\"id\":\"4406\",\"type\":\"ResetTool\"},{\"attributes\":{\"data_source\":{\"id\":\"4380\",\"type\":\"ColumnDataSource\"},\"glyph\":{\"id\":\"4430\",\"type\":\"Ray\"},\"hover_glyph\":null,\"muted_glyph\":null,\"nonselection_glyph\":{\"id\":\"4431\",\"type\":\"Ray\"},\"selection_glyph\":null,\"view\":{\"id\":\"4433\",\"type\":\"CDSView\"}},\"id\":\"4432\",\"type\":\"GlyphRenderer\"},{\"attributes\":{\"source\":{\"id\":\"4380\",\"type\":\"ColumnDataSource\"}},\"id\":\"4433\",\"type\":\"CDSView\"},{\"attributes\":{},\"id\":\"4388\",\"type\":\"LinearScale\"},{\"attributes\":{\"callback\":null,\"end\":2.0,\"start\":-1.9996930000000002},\"id\":\"4386\",\"type\":\"Range1d\"},{\"attributes\":{\"axis_label\":\"Samples\",\"formatter\":{\"id\":\"4541\",\"type\":\"BasicTickFormatter\"},\"plot\":{\"id\":\"4382\",\"subtype\":\"Figure\",\"type\":\"Plot\"},\"ticker\":{\"id\":\"4417\",\"type\":\"FixedTicker\"}},\"id\":\"4392\",\"type\":\"LinearAxis\"},{\"attributes\":{},\"id\":\"4390\",\"type\":\"LinearScale\"},{\"attributes\":{},\"id\":\"4546\",\"type\":\"UnionRenderers\"},{\"attributes\":{},\"id\":\"4393\",\"type\":\"BasicTicker\"},{\"attributes\":{},\"id\":\"4542\",\"type\":\"BasicTickFormatter\"},{\"attributes\":{},\"id\":\"4541\",\"type\":\"BasicTickFormatter\"},{\"attributes\":{\"ticks\":[0,5,10,15,20,25,30,35,40,45,50,55,60,65,70,75,80,85,90,95]},\"id\":\"4417\",\"type\":\"FixedTicker\"},{\"attributes\":{},\"id\":\"4545\",\"type\":\"Selection\"},{\"attributes\":{\"callback\":null,\"data\":{\"x\":[1]},\"selected\":{\"id\":\"4549\",\"type\":\"Selection\"},\"selection_policy\":{\"id\":\"4550\",\"type\":\"UnionRenderers\"}},\"id\":\"4380\",\"type\":\"ColumnDataSource\"},{\"attributes\":{},\"id\":\"4550\",\"type\":\"UnionRenderers\"},{\"attributes\":{},\"id\":\"4549\",\"type\":\"Selection\"},{\"attributes\":{\"active_drag\":null,\"active_inspect\":\"auto\",\"active_multi\":null,\"active_scroll\":\"auto\",\"active_tap\":\"auto\",\"tools\":[{\"id\":\"4402\",\"type\":\"PanTool\"},{\"id\":\"4403\",\"type\":\"WheelZoomTool\"},{\"id\":\"4404\",\"type\":\"BoxZoomTool\"},{\"id\":\"4405\",\"type\":\"SaveTool\"},{\"id\":\"4406\",\"type\":\"ResetTool\"},{\"id\":\"4407\",\"type\":\"HelpTool\"}]},\"id\":\"4408\",\"type\":\"Toolbar\"},{\"attributes\":{\"callback\":null,\"end\":98},\"id\":\"4384\",\"type\":\"Range1d\"},{\"attributes\":{\"line_alpha\":0.8,\"line_color\":\"#8888cc\",\"line_width\":1.5,\"x\":{\"field\":\"x\"},\"y\":{\"field\":\"y\"}},\"id\":\"4420\",\"type\":\"Line\"}],\"root_ids\":[\"4382\"]},\"title\":\"Bokeh Application\",\"version\":\"1.0.4\"}};\n",
       "  var render_items = [{\"docid\":\"bda3d953-be18-4263-bb2a-ba54bdcffe24\",\"notebook_comms_target\":\"4846\",\"roots\":{\"4382\":\"488f2a10-a75f-4c73-9ef2-8419d68ed3ee\"}}];\n",
       "  root.Bokeh.embed.embed_items_notebook(docs_json, render_items);\n",
       "\n",
       "  }\n",
       "  if (root.Bokeh !== undefined) {\n",
       "    embed_document(root);\n",
       "  } else {\n",
       "    var attempts = 0;\n",
       "    var timer = setInterval(function(root) {\n",
       "      if (root.Bokeh !== undefined) {\n",
       "        embed_document(root);\n",
       "        clearInterval(timer);\n",
       "      }\n",
       "      attempts++;\n",
       "      if (attempts > 100) {\n",
       "        console.log(\"Bokeh: ERROR: Unable to run BokehJS code because BokehJS library is missing\");\n",
       "        clearInterval(timer);\n",
       "      }\n",
       "    }, 10, root)\n",
       "  }\n",
       "})(window);"
      ],
      "application/vnd.bokehjs_exec.v0+json": ""
     },
     "metadata": {
      "application/vnd.bokehjs_exec.v0+json": {
       "id": "4382"
      }
     },
     "output_type": "display_data"
    },
    {
     "data": {
      "application/vnd.jupyter.widget-view+json": {
       "model_id": "44c95ee5380e4dce86e1c73cae07f137",
       "version_major": 2,
       "version_minor": 0
      },
      "text/plain": [
       "interactive(children=(IntSlider(value=49, description='new_x', max=98), Output()), _dom_classes=('widget-inter…"
      ]
     },
     "metadata": {},
     "output_type": "display_data"
    },
    {
     "data": {
      "text/html": [
       "\n",
       "\n",
       "\n",
       "\n",
       "\n",
       "\n",
       "  <div class=\"bk-root\" id=\"aa66f0df-202d-4514-a477-bafc2d7e70e0\" data-root-id=\"4435\"></div>\n"
      ]
     },
     "metadata": {},
     "output_type": "display_data"
    },
    {
     "data": {
      "application/javascript": [
       "(function(root) {\n",
       "  function embed_document(root) {\n",
       "    \n",
       "  var docs_json = {\"c403d524-0aba-4915-956a-1e1a9bd919dd\":{\"roots\":{\"references\":[{\"attributes\":{\"background_fill_color\":{\"value\":\"#efefef\"},\"below\":[{\"id\":\"4445\",\"type\":\"LinearAxis\"}],\"left\":[{\"id\":\"4450\",\"type\":\"LinearAxis\"}],\"plot_height\":300,\"plot_width\":300,\"renderers\":[{\"id\":\"4445\",\"type\":\"LinearAxis\"},{\"id\":\"4449\",\"type\":\"Grid\"},{\"id\":\"4450\",\"type\":\"LinearAxis\"},{\"id\":\"4454\",\"type\":\"Grid\"},{\"id\":\"4463\",\"type\":\"BoxAnnotation\"}],\"title\":{\"id\":\"4434\",\"type\":\"Title\"},\"toolbar\":{\"id\":\"4461\",\"type\":\"Toolbar\"},\"toolbar_location\":null,\"x_range\":{\"id\":\"4437\",\"type\":\"Range1d\"},\"x_scale\":{\"id\":\"4441\",\"type\":\"LinearScale\"},\"y_range\":{\"id\":\"4439\",\"type\":\"Range1d\"},\"y_scale\":{\"id\":\"4443\",\"type\":\"LinearScale\"}},\"id\":\"4435\",\"subtype\":\"Figure\",\"type\":\"Plot\"},{\"attributes\":{},\"id\":\"4441\",\"type\":\"LinearScale\"},{\"attributes\":{},\"id\":\"4456\",\"type\":\"WheelZoomTool\"},{\"attributes\":{},\"id\":\"4443\",\"type\":\"LinearScale\"},{\"attributes\":{\"bottom_units\":\"screen\",\"fill_alpha\":{\"value\":0.5},\"fill_color\":{\"value\":\"lightgrey\"},\"left_units\":\"screen\",\"level\":\"overlay\",\"line_alpha\":{\"value\":1.0},\"line_color\":{\"value\":\"black\"},\"line_dash\":[4,4],\"line_width\":{\"value\":2},\"plot\":null,\"render_mode\":\"css\",\"right_units\":\"screen\",\"top_units\":\"screen\"},\"id\":\"4463\",\"type\":\"BoxAnnotation\"},{\"attributes\":{},\"id\":\"4446\",\"type\":\"BasicTicker\"},{\"attributes\":{\"formatter\":{\"id\":\"4700\",\"type\":\"BasicTickFormatter\"},\"plot\":{\"id\":\"4435\",\"subtype\":\"Figure\",\"type\":\"Plot\"},\"ticker\":{\"id\":\"4446\",\"type\":\"BasicTicker\"}},\"id\":\"4445\",\"type\":\"LinearAxis\"},{\"attributes\":{},\"id\":\"4451\",\"type\":\"BasicTicker\"},{\"attributes\":{\"active_drag\":null,\"active_inspect\":\"auto\",\"active_multi\":null,\"active_scroll\":\"auto\",\"active_tap\":\"auto\",\"tools\":[{\"id\":\"4455\",\"type\":\"PanTool\"},{\"id\":\"4456\",\"type\":\"WheelZoomTool\"},{\"id\":\"4457\",\"type\":\"BoxZoomTool\"},{\"id\":\"4458\",\"type\":\"SaveTool\"},{\"id\":\"4459\",\"type\":\"ResetTool\"},{\"id\":\"4460\",\"type\":\"HelpTool\"}]},\"id\":\"4461\",\"type\":\"Toolbar\"},{\"attributes\":{\"plot\":{\"id\":\"4435\",\"subtype\":\"Figure\",\"type\":\"Plot\"},\"ticker\":{\"id\":\"4446\",\"type\":\"BasicTicker\"}},\"id\":\"4449\",\"type\":\"Grid\"},{\"attributes\":{\"overlay\":{\"id\":\"4463\",\"type\":\"BoxAnnotation\"}},\"id\":\"4457\",\"type\":\"BoxZoomTool\"},{\"attributes\":{\"plot\":null,\"text\":\"output\"},\"id\":\"4434\",\"type\":\"Title\"},{\"attributes\":{\"callback\":null,\"end\":10},\"id\":\"4439\",\"type\":\"Range1d\"},{\"attributes\":{},\"id\":\"4460\",\"type\":\"HelpTool\"},{\"attributes\":{\"dimension\":1,\"plot\":{\"id\":\"4435\",\"subtype\":\"Figure\",\"type\":\"Plot\"},\"ticker\":{\"id\":\"4451\",\"type\":\"BasicTicker\"}},\"id\":\"4454\",\"type\":\"Grid\"},{\"attributes\":{},\"id\":\"4458\",\"type\":\"SaveTool\"},{\"attributes\":{\"formatter\":{\"id\":\"4702\",\"type\":\"BasicTickFormatter\"},\"plot\":{\"id\":\"4435\",\"subtype\":\"Figure\",\"type\":\"Plot\"},\"ticker\":{\"id\":\"4451\",\"type\":\"BasicTicker\"}},\"id\":\"4450\",\"type\":\"LinearAxis\"},{\"attributes\":{},\"id\":\"4459\",\"type\":\"ResetTool\"},{\"attributes\":{},\"id\":\"4455\",\"type\":\"PanTool\"},{\"attributes\":{},\"id\":\"4700\",\"type\":\"BasicTickFormatter\"},{\"attributes\":{},\"id\":\"4702\",\"type\":\"BasicTickFormatter\"},{\"attributes\":{\"callback\":null,\"end\":10},\"id\":\"4437\",\"type\":\"Range1d\"}],\"root_ids\":[\"4435\"]},\"title\":\"Bokeh Application\",\"version\":\"1.0.4\"}};\n",
       "  var render_items = [{\"docid\":\"c403d524-0aba-4915-956a-1e1a9bd919dd\",\"notebook_comms_target\":\"4915\",\"roots\":{\"4435\":\"aa66f0df-202d-4514-a477-bafc2d7e70e0\"}}];\n",
       "  root.Bokeh.embed.embed_items_notebook(docs_json, render_items);\n",
       "\n",
       "  }\n",
       "  if (root.Bokeh !== undefined) {\n",
       "    embed_document(root);\n",
       "  } else {\n",
       "    var attempts = 0;\n",
       "    var timer = setInterval(function(root) {\n",
       "      if (root.Bokeh !== undefined) {\n",
       "        embed_document(root);\n",
       "        clearInterval(timer);\n",
       "      }\n",
       "      attempts++;\n",
       "      if (attempts > 100) {\n",
       "        console.log(\"Bokeh: ERROR: Unable to run BokehJS code because BokehJS library is missing\");\n",
       "        clearInterval(timer);\n",
       "      }\n",
       "    }, 10, root)\n",
       "  }\n",
       "})(window);"
      ],
      "application/vnd.bokehjs_exec.v0+json": ""
     },
     "metadata": {
      "application/vnd.bokehjs_exec.v0+json": {
       "id": "4435"
      }
     },
     "output_type": "display_data"
    }
   ],
   "source": [
    "h1 = show(plot_1, notebook_handle=True) \n",
    "interact(update_hline,new_x = (0,samples))\n",
    "h2 = show(plot_2, notebook_handle=True) \n",
    "\n",
    "    \n"
   ]
  },
  {
   "cell_type": "code",
   "execution_count": 26,
   "metadata": {},
   "outputs": [
    {
     "data": {
      "application/vnd.jupyter.widget-view+json": {
       "model_id": "a92a1da98dd548c68bcbcaf855bb7a65",
       "version_major": 2,
       "version_minor": 0
      },
      "text/plain": [
       "interactive(children=(IntSlider(value=5, description='x_lim', max=10), IntSlider(value=5, description='y_lim',…"
      ]
     },
     "metadata": {},
     "output_type": "display_data"
    },
    {
     "data": {
      "text/plain": [
       "<function __main__.update_lim(x_lim, y_lim)>"
      ]
     },
     "execution_count": 26,
     "metadata": {},
     "output_type": "execute_result"
    }
   ],
   "source": [
    "interact(update_lim,x_lim = (0,10), y_lim = (0,10))"
   ]
  },
  {
   "cell_type": "code",
   "execution_count": 16,
   "metadata": {},
   "outputs": [],
   "source": [
    "def update():\n",
    "    line_2.data_source.data['y']\n",
    "    "
   ]
  },
  {
   "cell_type": "code",
   "execution_count": 17,
   "metadata": {},
   "outputs": [
    {
     "ename": "NameError",
     "evalue": "name 'best_gp' is not defined",
     "output_type": "error",
     "traceback": [
      "\u001b[1;31m---------------------------------------------------------------------------\u001b[0m",
      "\u001b[1;31mNameError\u001b[0m                                 Traceback (most recent call last)",
      "\u001b[1;32m<ipython-input-17-3ccff3a176fe>\u001b[0m in \u001b[0;36m<module>\u001b[1;34m\u001b[0m\n\u001b[1;32m----> 1\u001b[1;33m \u001b[0mprint\u001b[0m\u001b[1;33m(\u001b[0m\u001b[0mbest_gp\u001b[0m\u001b[1;33m.\u001b[0m\u001b[0m_program\u001b[0m\u001b[1;33m)\u001b[0m\u001b[1;33m\u001b[0m\u001b[1;33m\u001b[0m\u001b[0m\n\u001b[0m",
      "\u001b[1;31mNameError\u001b[0m: name 'best_gp' is not defined"
     ]
    }
   ],
   "source": [
    "print(best_gp._program)\n"
   ]
  },
  {
   "cell_type": "code",
   "execution_count": null,
   "metadata": {},
   "outputs": [],
   "source": [
    "graph = pydotplus.graphviz.graph_from_dot_data(best_gp._program.export_graphviz())\n",
    "Image(graph.create_png())"
   ]
  },
  {
   "cell_type": "code",
   "execution_count": null,
   "metadata": {},
   "outputs": [],
   "source": []
  }
 ],
 "metadata": {
  "kernelspec": {
   "display_name": "Python 3",
   "language": "python",
   "name": "python3"
  },
  "language_info": {
   "codemirror_mode": {
    "name": "ipython",
    "version": 3
   },
   "file_extension": ".py",
   "mimetype": "text/x-python",
   "name": "python",
   "nbconvert_exporter": "python",
   "pygments_lexer": "ipython3",
   "version": "3.6.8"
  }
 },
 "nbformat": 4,
 "nbformat_minor": 2
}
