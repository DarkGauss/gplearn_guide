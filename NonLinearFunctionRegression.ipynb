{
 "cells": [
  {
   "cell_type": "code",
   "execution_count": 1,
   "metadata": {},
   "outputs": [],
   "source": [
    "# Imports for gplearn and pydotplus in order to see graph view"
   ]
  },
  {
   "cell_type": "code",
   "execution_count": 2,
   "metadata": {},
   "outputs": [
    {
     "name": "stdout",
     "output_type": "stream",
     "text": [
      "Populating the interactive namespace from numpy and matplotlib\n"
     ]
    }
   ],
   "source": [
    "%pylab inline\n",
    "from IPython.display import Image\n",
    "import pydotplus\n",
    "\n",
    "from gplearn.genetic import SymbolicRegressor\n",
    "from gplearn.fitness import make_fitness"
   ]
  },
  {
   "cell_type": "code",
   "execution_count": 3,
   "metadata": {},
   "outputs": [],
   "source": [
    "#--Import the required libraries--\n",
    "import math\n",
    "import random\n",
    "import matplotlib.pyplot as plt\n",
    "import numpy as np\n",
    "\n",
    "#--debug mode to report on evaluation of tree--\n",
    "debug_eval = False\n",
    "\n"
   ]
  },
  {
   "cell_type": "markdown",
   "metadata": {},
   "source": [
    "# Test function\n",
    "\n",
    " The test function is the oscillations that would occur for an A-Major cord, with 1 unit representing 1/1000th of a seccond. (Function found from stack exchange)\n",
    "The test function is evaluated from -5.0 to 5.0 at intervals of 0.5 in order to determine the fitness of an individual \n",
    "In order to evaluate a individual on the full range, 50 points are used from -10.0 to 10.0. The function is graphed at 100 points."
   ]
  },
  {
   "cell_type": "code",
   "execution_count": 4,
   "metadata": {},
   "outputs": [],
   "source": [
    "#--Setup for the test function--\n",
    "\n",
    "#test function definition\n",
    "def test_func(x):\n",
    "    #A-major cord where 1 = 1/1000th of a seccond\n",
    "    return math.sin(x)\n"
   ]
  },
  {
   "cell_type": "markdown",
   "metadata": {},
   "source": [
    "# Setup the training data\n",
    "here we will pick random floats in our test test range for it to train off of\n"
   ]
  },
  {
   "cell_type": "code",
   "execution_count": 5,
   "metadata": {},
   "outputs": [
    {
     "name": "stdout",
     "output_type": "stream",
     "text": [
      "(10,)\n",
      "[-3.74456424 -0.69906835  1.54206917  0.05649314  3.73772946 -0.54375581\n",
      " -1.92587635  2.15257809 -3.21042816  2.09694736]\n",
      "(10, 1)\n",
      "[[-3.74456424]\n",
      " [-0.69906835]\n",
      " [ 1.54206917]\n",
      " [ 0.05649314]\n",
      " [ 3.73772946]\n",
      " [-0.54375581]\n",
      " [-1.92587635]\n",
      " [ 2.15257809]\n",
      " [-3.21042816]\n",
      " [ 2.09694736]]\n"
     ]
    }
   ],
   "source": [
    "\n",
    "#Range of x values on the function to sample from\n",
    "train_range = (-4,4)\n",
    "dist_range = abs(train_range[0])+abs(train_range[1])\n",
    "\n",
    "num_samples = 10\n",
    "train_x = (np.random.random_sample(num_samples)*dist_range) + train_range[0]\n",
    "train_y = np.asarray([test_func(point) for point in train_x])\n",
    "\n",
    "print(train_x.shape)\n",
    "print(train_x)\n",
    "\n",
    "#reshape the new array in to a num_samples by 1 array since we only have 1 feature\n",
    "train_x = train_x.reshape(-1,1)\n",
    "\n",
    "print(train_x.shape)\n",
    "print(train_x)"
   ]
  },
  {
   "cell_type": "markdown",
   "metadata": {},
   "source": [
    "# Custom Fitness function\n",
    "Here is where the real usage of gplearn begins, here we define a fitness function that tests the diffrence from the result to the selected training values using RMSE. This function is actually built into gplearn, but figured it was better to show how to make your own fitness function"
   ]
  },
  {
   "cell_type": "code",
   "execution_count": 6,
   "metadata": {},
   "outputs": [],
   "source": [
    "#fittness function\n",
    "\n",
    "def _custom_fitness(y, y_pred, w):\n",
    "    return np.sqrt(np.mean((y_pred-y)**2))\n",
    "\n",
    "custom_fitness = make_fitness(_custom_fitness, greater_is_better=False)"
   ]
  },
  {
   "cell_type": "markdown",
   "metadata": {},
   "source": [
    "# Symbolic regression\n",
    "\n",
    "We run a symbolic regression on a 1000 individuals for 20 generations. There are three kinds of mutation, subtree, hoist, and point. The hoist mutation is the only type that differs significantly from what was talked about in class. In it, a random subtree is selected, then, a random subtree from within it is lifted to it’s root node. It is used to combat tree bloat, and it appears to be very effective. Without the hoist mutation, tree trees grew like redwoods."
   ]
  },
  {
   "cell_type": "code",
   "execution_count": 7,
   "metadata": {},
   "outputs": [
    {
     "name": "stdout",
     "output_type": "stream",
     "text": [
      "    |    Population Average   |             Best Individual              |\n",
      "---- ------------------------- ------------------------------------------ ----------\n",
      " Gen   Length          Fitness   Length          Fitness      OOB Fitness  Time Left\n",
      "   0    31.57 190.86805610268897        6              0.0              0.0      8.51s\n"
     ]
    },
    {
     "data": {
      "text/plain": [
       "SymbolicRegressor(const_range=(-1.0, 1.0),\n",
       "         function_set=('add', 'sub', 'mul', 'div', 'sin'), generations=20,\n",
       "         init_depth=(2, 6), init_method='half and half', max_samples=0.9,\n",
       "         metric=<gplearn.fitness._Fitness object at 0x0000017AEF1F2A20>,\n",
       "         n_jobs=1, p_crossover=0.7, p_hoist_mutation=0.05,\n",
       "         p_point_mutation=0.1, p_point_replace=0.05,\n",
       "         p_subtree_mutation=0.1, parsimony_coefficient=0.001,\n",
       "         population_size=1000, random_state=0, stopping_criteria=0,\n",
       "         tournament_size=20, verbose=1, warm_start=False)"
      ]
     },
     "execution_count": 7,
     "metadata": {},
     "output_type": "execute_result"
    }
   ],
   "source": [
    "#This part sets up the symbolic regressor\n",
    "best_gp = SymbolicRegressor(population_size=1000,\n",
    "                           generations=20, stopping_criteria=0,\n",
    "                           p_crossover=0.7, p_subtree_mutation=0.1,\n",
    "                           p_hoist_mutation=0.05, p_point_mutation=0.1,\n",
    "                           max_samples=0.9, verbose=1,\n",
    "                           parsimony_coefficient=0.001, random_state=0,\n",
    "                           metric = custom_fitness,\n",
    "                           function_set=('add', 'sub', 'mul', 'div',\"sin\")\n",
    "                           )\n",
    "#This part runs it on our data\n",
    "best_gp.fit(train_x, train_y)"
   ]
  },
  {
   "cell_type": "markdown",
   "metadata": {},
   "source": [
    "# Plot The function it predicted in comparison with the actual function"
   ]
  },
  {
   "cell_type": "code",
   "execution_count": 8,
   "metadata": {},
   "outputs": [],
   "source": [
    "#setup markers to point at where the samples of the original function were taken from\n",
    "marker_loc = train_x.reshape(num_samples)\n"
   ]
  },
  {
   "cell_type": "code",
   "execution_count": 9,
   "metadata": {},
   "outputs": [
    {
     "data": {
      "image/png": "[encoded data removed]",
      "text/plain": [
       "<Figure size 432x288 with 1 Axes>"
      ]
     },
     "metadata": {
      "needs_background": "light"
     },
     "output_type": "display_data"
    }
   ],
   "source": [
    "#--plotting the results--\n",
    "\n",
    "#If set to true, marks every datapoint that was used in  training\n",
    "mark_trainy_loc = True\n",
    "\n",
    "#range of y values to plot points\n",
    "test_func_rangey = (-5.0,5.0)\n",
    "\n",
    "#range of values to display\n",
    "test_func_rangex = (-10.0,10.0)\n",
    "#step size of display\n",
    "test_func_graph_points = 100\n",
    "#setup the axis for np\n",
    "axis = np.linspace(test_func_rangex[0],test_func_rangex[1],test_func_graph_points)\n",
    "\n",
    "#actual values from the test function\n",
    "func_values = np.asarray([test_func(val) for val in axis])\n",
    "\n",
    "#values predicted\n",
    "predicted_values = best_gp.predict(axis.reshape(-1,1))\n",
    "\n",
    "plt.plot(axis, func_values, label = \"test_func\")\n",
    "plt.plot(axis, predicted_values, label = \"gp_predict\")\n",
    "\n",
    "if mark_trainy_loc:\n",
    "    plt.plot(marker_loc,np.asarray([test_func(val) for val in marker_loc]) , 'ro')\n",
    "\n",
    "plt.axvline(x=train_range[0], label='Training Area'.format(train_range[0]), c=\"r\", ls = \"--\", alpha = 0.50)\n",
    "plt.axvline(x=train_range[1], c=\"r\", ls = \"--\", alpha = 0.50)\n",
    "\n",
    "plt.grid( linestyle='-')\n",
    "plt.xlabel(\"x-axis\")\n",
    "plt.ylabel(\"f(x)\")\n",
    "plt.ylim(top=test_func_rangey[1],bottom= test_func_rangey[0])\n",
    "plt.title(\"Test function and predicted function\")\n",
    "pylab.legend(loc=9, bbox_to_anchor=(1, -0.1), ncol=2)\n",
    "plt.show()\n",
    "\n"
   ]
  },
  {
   "cell_type": "code",
   "execution_count": 10,
   "metadata": {},
   "outputs": [
    {
     "name": "stdout",
     "output_type": "stream",
     "text": [
      "mul(sin(X0), div(X0, X0))\n"
     ]
    },
    {
     "data": {
      "text/plain": [
       "array([0.])"
      ]
     },
     "execution_count": 10,
     "metadata": {},
     "output_type": "execute_result"
    }
   ],
   "source": [
    " print(best_gp._program)\n",
    "best_gp.predict(np.array(0).reshape(-1,1))"
   ]
  },
  {
   "cell_type": "code",
   "execution_count": 11,
   "metadata": {},
   "outputs": [
    {
     "data": {
      "image/png": "[encoded data removed]",
      "text/plain": [
       "<IPython.core.display.Image object>"
      ]
     },
     "execution_count": 11,
     "metadata": {},
     "output_type": "execute_result"
    }
   ],
   "source": [
    "graph = pydotplus.graphviz.graph_from_dot_data(best_gp._program.export_graphviz())\n",
    "Image(graph.create_png())"
   ]
  },
  {
   "cell_type": "code",
   "execution_count": null,
   "metadata": {},
   "outputs": [],
   "source": []
  }
 ],
 "metadata": {
  "kernelspec": {
   "display_name": "Python 3",
   "language": "python",
   "name": "python3"
  },
  "language_info": {
   "codemirror_mode": {
    "name": "ipython",
    "version": 3
   },
   "file_extension": ".py",
   "mimetype": "text/x-python",
   "name": "python",
   "nbconvert_exporter": "python",
   "pygments_lexer": "ipython3",
   "version": "3.6.8"
  }
 },
 "nbformat": 4,
 "nbformat_minor": 2
}
