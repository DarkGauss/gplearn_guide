{
 "cells": [
  {
   "cell_type": "code",
   "execution_count": null,
   "metadata": {},
   "outputs": [],
   "source": [
    "#--Import the required libraries--\n",
    "import math\n",
    "import random\n",
    "import matplotlib.pyplot as plt\n",
    "import numpy as np\n",
    "\n",
    "#--debug mode to report on evaluation of tree--\n",
    "debug_eval = False\n",
    "\n"
   ]
  },
  {
   "cell_type": "markdown",
   "metadata": {},
   "source": [
    "# Test function\n",
    "\n",
    " The test function is the oscillations that would occur for an A-Major cord, with 1 unit representing 1/1000th of a seccond. (Function found from stack exchange)\n",
    "The test function is evaluated from -5.0 to 5.0 at intervals of 0.5 in order to determine the fitness of an individual \n",
    "In order to evaluate a individual on the full range, 50 points are used from -10.0 to 10.0. The function is graphed at 100 points."
   ]
  },
  {
   "cell_type": "code",
   "execution_count": null,
   "metadata": {},
   "outputs": [],
   "source": [
    "#--Setup for the test function--\n",
    "\n",
    "#test function definition\n",
    "def test_func(x):\n",
    "    #A-major cord where 1 = 1/1000th of a seccond\n",
    "    return math.sin(880.0*math.pi*x/1000.0)+math.sin(1100.0*math.pi*x/1000.0)+math.sin(1320.0*math.pi*x/1000.0)\n",
    "    \n",
    "#position of values to evaluate function at\n",
    "x_values = np.arange(-5.0,5.0,0.5)\n",
    "y_values = np.asarray([test_func(point) for point in x_values])\n",
    "\n",
    "#range of values to display\n",
    "func_range = (-10.0,10.0)\n",
    "#step size of display\n",
    "func_graph_points = 100"
   ]
  },
  {
   "cell_type": "markdown",
   "metadata": {},
   "source": [
    "# Helper function to plot the function"
   ]
  },
  {
   "cell_type": "code",
   "execution_count": 2,
   "metadata": {},
   "outputs": [],
   "source": [
    "#--helper functions to plot results--\n",
    "def make_graph(input_gp, title):\n",
    "    axis = np.linspace(func_range[0],func_range[1],func_graph_points)\n",
    "    func_values = np.asarray([input_gp.eval(val) for val in axis])\n",
    "    test_values = np.asarray([test_func(val) for val in axis])\n",
    "    plt.plot(axis, test_values, label = \"test_func\")\n",
    "    plt.plot(axis, func_values, label = \"GP eval\")\n",
    "    plt.grid( linestyle='-')\n",
    "    plt.xlabel(\"x-axis\")\n",
    "    plt.ylabel(\"f(x)\")\n",
    "    plt.ylim(top=5,bottom=-5)\n",
    "    plt.title(title)\n",
    "    plt.legend()\n",
    "    plt.show()\n",
    "\n"
   ]
  },
  {
   "cell_type": "code",
   "execution_count": null,
   "metadata": {},
   "outputs": [],
   "source": []
  }
 ],
 "metadata": {
  "kernelspec": {
   "display_name": "Python 3",
   "language": "python",
   "name": "python3"
  },
  "language_info": {
   "codemirror_mode": {
    "name": "ipython",
    "version": 3
   },
   "file_extension": ".py",
   "mimetype": "text/x-python",
   "name": "python",
   "nbconvert_exporter": "python",
   "pygments_lexer": "ipython3",
   "version": "3.6.8"
  }
 },
 "nbformat": 4,
 "nbformat_minor": 2
}
