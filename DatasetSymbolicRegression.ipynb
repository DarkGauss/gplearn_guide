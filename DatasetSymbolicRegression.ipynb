{
 "cells": [
  {
   "cell_type": "code",
   "execution_count": 1,
   "metadata": {},
   "outputs": [],
   "source": [
    "# Imports for gplearn and pydotplus in order to see graph view"
   ]
  },
  {
   "cell_type": "code",
   "execution_count": 2,
   "metadata": {},
   "outputs": [],
   "source": [
    "\n",
    "from IPython.display import Image\n",
    "import pydotplus\n",
    "\n",
    "from gplearn.genetic import SymbolicRegressor\n",
    "from gplearn.fitness import make_fitness"
   ]
  },
  {
   "cell_type": "code",
   "execution_count": 3,
   "metadata": {},
   "outputs": [],
   "source": [
    "#--Import the required libraries--\n",
    "import math\n",
    "import random\n",
    "import matplotlib.pyplot as plt\n",
    "import numpy as np\n",
    "\n",
    "#--debug mode to report on evaluation of tree--\n",
    "debug_eval = False\n",
    "\n"
   ]
  },
  {
   "cell_type": "markdown",
   "metadata": {},
   "source": [
    "# Import Scipy generic dataset \n",
    "* Number of Instances:506\n",
    "* Number of Attributes:13\n",
    "* Attribute Information (in order):"
   ]
  },
  {
   "cell_type": "markdown",
   "metadata": {},
   "source": [
    "\n",
    "<li>CRIM     per capita crime rate by town</li>\n",
    "<li>ZN       proportion of residential land zoned for lots over 25,000 sq.ft.</li>\n",
    "<li>INDUS    proportion of non-retail business acres per town</li>\n",
    "<li>CHAS     Charles River dummy variable (= 1 if tract bounds river; 0 otherwise)</li>\n",
    "<li>NOX      nitric oxides concentration (parts per 10 million)</li>\n",
    "<li>RM       average number of rooms per dwelling</li>\n",
    "<li>AGE      proportion of owner-occupied units built prior to 1940</li>\n",
    "<li>DIS      weighted distances to five Boston employment centres</li>\n",
    "<li>RAD      index of accessibility to radial highways</li>\n",
    "<li>TAX      full-value property-tax rate per \\\\$10,000</li>\n",
    "<li>PTRATIO  pupil-teacher ratio by town</li>\n",
    "<li>B        1000(Bk - 0.63)^2 where Bk is the proportion of blacks by town</li>\n",
    "<li>LSTAT    \\\\% lower status of the population</li>\n",
    "<li>MEDV     Median value of owner-occupied homes in $1000’s</li>"
   ]
  },
  {
   "cell_type": "code",
   "execution_count": 4,
   "metadata": {},
   "outputs": [
    {
     "name": "stdout",
     "output_type": "stream",
     "text": [
      "Shapes:\n",
      " data_x:(506, 13)\n",
      " data_y:(506,)\n",
      " train_x:(455, 13)\n",
      " test_x:(51, 13)\n",
      " train_y:(455,)\n",
      " test_y:(51,)\n"
     ]
    }
   ],
   "source": [
    "from sklearn.model_selection import train_test_split\n",
    "from sklearn.datasets import load_boston\n",
    "\n",
    "#load the data from the default data set, and split it into a tuple\n",
    "data = load_boston(return_X_y = True)\n",
    "\n",
    "#what percent of our data do we want to use to validate\n",
    "split_percent = 0.1\n",
    "train_x, test_x, train_y, test_y = train_test_split(*data, test_size = split_percent, random_state = 0)\n",
    "\n",
    "#print out the shapes for clarity\n",
    "print(\"Shapes:\\n data_x:{}\\n data_y:{}\\n train_x:{}\\n test_x:{}\\n train_y:{}\\n test_y:{}\"\n",
    "      .format(data[0].shape,data[1].shape,train_x.shape,test_x.shape,train_y.shape,test_y.shape))"
   ]
  },
  {
   "cell_type": "markdown",
   "metadata": {},
   "source": [
    "# Symbolic regression\n",
    "\n",
    "We run a symbolic regression on a 1000 individuals for 20 generations. There are three kinds of mutation, subtree, hoist, and point. The hoist mutation is the only type that differs significantly from what was talked about in class. In it, a random subtree is selected, then, a random subtree from within it is lifted to it’s root node. It is used to combat tree bloat, and it appears to be very effective. Without the hoist mutation, tree trees grew like redwoods."
   ]
  },
  {
   "cell_type": "code",
   "execution_count": 8,
   "metadata": {},
   "outputs": [
    {
     "name": "stdout",
     "output_type": "stream",
     "text": [
      "    |    Population Average   |             Best Individual              |\n",
      "---- ------------------------- ------------------------------------------ ----------\n",
      " Gen   Length          Fitness   Length          Fitness      OOB Fitness  Time Left\n",
      "   0    15.22 622202.3030981647        2 9.389661758228991 11.063126284788172      3.12s\n",
      "   1    12.74 99.44694442208873        2 9.093984268710754 13.07614248988949      7.09s\n",
      "   2     7.91 290.0182539958037        4 8.554187769987667 8.652966276067414      6.23s\n",
      "   3      4.6 495.3918261345955        4 8.357819451207222 10.217714561057711      5.01s\n",
      "   4     7.59 184.21507519114215        4 8.103315072385037 11.901730768510784      4.25s\n",
      "   5     6.48 22.73838357633572        4 8.11201190966635 11.848937725757853      3.32s\n",
      "   6     6.52 29.90389743075394        4 8.029950901588782 12.335922172091651      2.42s\n",
      "   7     7.79 32.85830534805396       12 8.030975545188586 12.3299900276114      1.60s\n",
      "   8     8.88 47.670880708015716        4 7.901558907426013 13.052277428331763      0.80s\n",
      "   9     9.91 37.56307640297032        4 8.076171623794346 12.064657613201767      0.00s\n"
     ]
    },
    {
     "data": {
      "text/plain": [
       "SymbolicRegressor(const_range=(-1.0, 1.0),\n",
       "         function_set=('add', 'sub', 'mul', 'div', 'sin', 'log', 'sqrt', 'abs', 'max', 'min', 'inv'),\n",
       "         generations=10, init_depth=(4, 6), init_method='half and half',\n",
       "         max_samples=0.9, metric='rmse', n_jobs=1, p_crossover=0.9,\n",
       "         p_hoist_mutation=0.01, p_point_mutation=0.01,\n",
       "         p_point_replace=0.05, p_subtree_mutation=0.01,\n",
       "         parsimony_coefficient=0.001, population_size=1000, random_state=0,\n",
       "         stopping_criteria=0, tournament_size=20, verbose=1,\n",
       "         warm_start=True)"
      ]
     },
     "execution_count": 8,
     "metadata": {},
     "output_type": "execute_result"
    }
   ],
   "source": [
    "#This part sets up the symbolic regressor\n",
    "est_gp = SymbolicRegressor(population_size=1000,\n",
    "                           generations=10,\n",
    "                           tournament_size=20,\n",
    "                           init_depth = (4,6),\n",
    "                           stopping_criteria=0,\n",
    "                           p_crossover=0.9,\n",
    "                           p_subtree_mutation=0.01,\n",
    "                           p_hoist_mutation=0.01,\n",
    "                           p_point_mutation=0.01,\n",
    "                           max_samples=0.9,\n",
    "                           verbose=1,\n",
    "                           parsimony_coefficient=0.001,\n",
    "                           random_state=0,\n",
    "                           metric = 'rmse',\n",
    "                           function_set=('add', 'sub', 'mul', 'div',\"sin\",\"log\",\"sqrt\",\"abs\",\"max\",\"min\",\"inv\"),\n",
    "                           warm_start = True\n",
    "                           )\n",
    "#This part runs it on our data\n",
    "est_gp.fit(train_x, train_y)"
   ]
  },
  {
   "cell_type": "markdown",
   "metadata": {},
   "source": [
    "# Scoring\n",
    "Returns the coefficient of determination R^2 of the prediction.\n",
    "\n",
    "The coefficient R^2 is defined as (1 - u/v), where u is the residual sum of squares ((y_true - y_pred) ** 2).sum() and v is the total sum of squares ((y_true - y_true.mean()) ** 2).sum(). The best possible score is 1.0 and it can be negative (because the model can be arbitrarily worse). A constant model that always predicts the expected value of y, disregarding the input features, would get a R^2 score of 0.0."
   ]
  },
  {
   "cell_type": "code",
   "execution_count": 9,
   "metadata": {},
   "outputs": [
    {
     "name": "stdout",
     "output_type": "stream",
     "text": [
      "add(X7, sqrt(X11))\n"
     ]
    },
    {
     "data": {
      "text/plain": [
       "-0.03753178004552282"
      ]
     },
     "execution_count": 9,
     "metadata": {},
     "output_type": "execute_result"
    }
   ],
   "source": [
    " print(est_gp._program)\n",
    "est_gp.score(test_x,test_y)"
   ]
  },
  {
   "cell_type": "code",
   "execution_count": 10,
   "metadata": {},
   "outputs": [
    {
     "data": {
      "image/png": "[encoded data removed]",
      "text/plain": [
       "<IPython.core.display.Image object>"
      ]
     },
     "execution_count": 10,
     "metadata": {},
     "output_type": "execute_result"
    }
   ],
   "source": [
    "graph = pydotplus.graphviz.graph_from_dot_data(est_gp._program.export_graphviz())\n",
    "Image(graph.create_png())"
   ]
  },
  {
   "cell_type": "code",
   "execution_count": null,
   "metadata": {},
   "outputs": [],
   "source": []
  }
 ],
 "metadata": {
  "kernelspec": {
   "display_name": "Python 3",
   "language": "python",
   "name": "python3"
  },
  "language_info": {
   "codemirror_mode": {
    "name": "ipython",
    "version": 3
   },
   "file_extension": ".py",
   "mimetype": "text/x-python",
   "name": "python",
   "nbconvert_exporter": "python",
   "pygments_lexer": "ipython3",
   "version": "3.6.8"
  }
 },
 "nbformat": 4,
 "nbformat_minor": 2
}
